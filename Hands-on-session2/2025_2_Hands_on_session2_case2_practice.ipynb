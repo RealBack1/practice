{
  "cells": [
    {
      "cell_type": "markdown",
      "metadata": {
        "id": "pINB1m1QFG2w"
      },
      "source": [
        "# Materials preprocessing & featurization basic(Assignment)\n",
        "\n"
      ]
    },
    {
      "cell_type": "markdown",
      "metadata": {
        "id": "ZNchoqCIm5VA"
      },
      "source": [
        "## **Step 0 : Data retrieval and filtering**\n",
        "\n",
        "\n",
        "\n"
      ]
    },
    {
      "cell_type": "code",
      "execution_count": null,
      "metadata": {
        "collapsed": true,
        "id": "uGFi92es8gDo"
      },
      "outputs": [],
      "source": [
        "# Install libraries to use matminer.\n",
        "!pip install --upgrade matplotlib==3.8.0\n",
        "!pip install --upgrade pyyaml six matminer[citrine] citrination-client pymatgen\n",
        "\n",
        "# This will restart the environment, allowing you to re-run the code with the correct versions.\n",
        "#import os\n",
        "#os.kill(os.getpid(), 9)\n",
        "\n",
        "# Ignore the warning message\n",
        "import warnings\n",
        "warnings.filterwarnings('ignore')\n",
        "\n",
        "# Load the required libraries\n",
        "import numpy as np # a software library for the Python programming language, adding support for large, multi-dimensional arrays and matrices, along with a large collection of high-level mathematical functions to operate on these arrays.\n",
        "import pandas as pd # a software library written for the Python programming language for data manipulation and analysis. In particular, it offers data structures and operations for manipulating numerical tables and time series\n",
        "import matplotlib.pyplot as plt # a plotting library for the Python programming language\n",
        "import seaborn as sns # Python data visualization library based on matplotlib. It provides a high-level interface for drawing attractive and informative statistical graphics\n",
        "\n",
        "# sklearn is a machine learning software library for the Python programming language. It features various classification, regression and clustering algorithms including support vector machines, random forests, gradient boosting,\n",
        "# k-means and DBSCAN, and is designed to interoperate with the Python numerical and scientific libraries NumPy and SciPy.\n",
        "\n",
        "from sklearn.datasets import fetch_california_housing\n",
        "from sklearn.model_selection import train_test_split\n",
        "from sklearn.preprocessing import StandardScaler\n",
        "from sklearn.feature_selection import SelectKBest, f_regression"
      ]
    },
    {
      "cell_type": "code",
      "execution_count": null,
      "metadata": {
        "id": "Ya5fkbsSXKoT"
      },
      "outputs": [],
      "source": [
        "# All datasets can be loaded using the load_dataset() function and the database name.\n",
        "from matminer.datasets import load_dataset\n",
        "\n",
        "df = load_dataset(\"dielectric_constant\")"
      ]
    },
    {
      "cell_type": "code",
      "execution_count": null,
      "metadata": {
        "id": "zfg5IagWXplP"
      },
      "outputs": [],
      "source": [
        "# We can get some more detailed information about this dataset using the get_all_dataset_info(<dataset>) function from matminer.\n",
        "from matminer.datasets import get_all_dataset_info\n",
        "\n",
        "print(get_all_dataset_info(\"dielectric_constant\"))"
      ]
    },
    {
      "cell_type": "markdown",
      "metadata": {
        "id": "0w2i5X9XQWDy"
      },
      "source": [
        "## **Step 1: Use the conversions Featurizers in matminer to turn a String composition**"
      ]
    },
    {
      "cell_type": "code",
      "execution_count": null,
      "metadata": {
        "id": "fUY8mT1LQ7oU"
      },
      "outputs": [],
      "source": [
        "from matminer.featurizers.conversions import StrToComposition"
      ]
    },
    {
      "cell_type": "code",
      "execution_count": null,
      "metadata": {
        "id": "L1ja9FKawim3"
      },
      "outputs": [],
      "source": [
        "# Add composition-based features\n",
        "# A major class of featurizers available in matminer uses the chemical composition to featurize the input data.\n",
        "# Let's add some composition based features to our DataFrame.\n",
        "\n",
        "# First step : Using the conversions Featurizers in matminer to turn a String composition (our formula column from before) into a pymatgen Composition.\n",
        "df1 = XXXXX.featurize_dataframe(df, \"formula\")\n",
        "df1.head()"
      ]
    },
    {
      "cell_type": "markdown",
      "source": [
        "Step 2 : Using one of the featurizers in matminer to add a suite of descriptors to the DataFrame."
      ],
      "metadata": {
        "id": "Bb66Up59bsbv"
      }
    },
    {
      "cell_type": "code",
      "execution_count": null,
      "metadata": {
        "id": "KN4VH4dCwjv2"
      },
      "outputs": [],
      "source": [
        "from matminer.featurizers.composition import ElementProperty\n",
        "\n",
        "# Add Magpie feature set\n",
        "ep_feat = XXXXX.from_preset(\"XXXXXXXXX\")\n",
        "df2 = ep_feat.XXXXX(df1, col_id=\"composition\")\n",
        "df2.head()"
      ]
    },
    {
      "cell_type": "markdown",
      "metadata": {
        "id": "mxt-VBGYXBul"
      },
      "source": [
        "## **Step 3: Add more composition-based featurizers**"
      ]
    },
    {
      "cell_type": "code",
      "execution_count": null,
      "metadata": {
        "id": "YfyoqDL7UYtw"
      },
      "outputs": [],
      "source": [
        "from matminer.featurizers.conversions import CompositionToOxidComposition\n",
        "from matminer.featurizers.composition import OxidationStates"
      ]
    },
    {
      "cell_type": "code",
      "execution_count": null,
      "metadata": {
        "id": "oLKf-VGQU8Xo"
      },
      "outputs": [],
      "source": [
        "# Add more composition-based features\n",
        "# There are many more Composition based featurizers apart from ElementProperty that are available in the matminer.featurizers.composition.\n",
        "# Let's try the ElectronegativityDiff featurizer which requires knowing the oxidation state of the various elements in the Composition.\n",
        "df3 = XXXXX().XXXXX(df2, \"composition\")\n",
        "df3.head()"
      ]
    },
    {
      "cell_type": "code",
      "source": [
        "# Add statistical features of oxidation states\n",
        "from matminer.featurizers.composition import OxidationStates\n",
        "os_feat = XXXXX()\n",
        "df4 = os_feat.XXXXX(df3, \"composition_oxid\")\n",
        "df4.head()"
      ],
      "metadata": {
        "id": "9b9BE6fPctcb"
      },
      "execution_count": null,
      "outputs": []
    },
    {
      "cell_type": "markdown",
      "source": [
        "## **Step 3: Add Structure based featurizers**"
      ],
      "metadata": {
        "id": "oPHTriAPYURz"
      }
    },
    {
      "cell_type": "code",
      "execution_count": null,
      "metadata": {
        "id": "Anl_Qjd4WBX8"
      },
      "outputs": [],
      "source": [
        "from matminer.featurizers.structure import DensityFeatures\n",
        "\n",
        "df_feat = XXXXXX()\n",
        "df5 = df_feat.XXXXX(df4, \"structure\")\n",
        "df5.head()"
      ]
    },
    {
      "cell_type": "markdown",
      "source": [
        "## **Step 4: Select numeric data and perform preprocessing**"
      ],
      "metadata": {
        "id": "yKVRvzMiYgTD"
      }
    },
    {
      "cell_type": "code",
      "source": [
        "import numpy as np\n",
        "\n",
        "# Select only the numeric columns for correlation\n",
        "numeric_df = df5.select_dtypes(include=[np.number])\n",
        "# Remove columns with a single unique value (which don't contribute to correlation)\n",
        "numeric_df = numeric_df.loc[:, numeric_df.apply(lambda col: col.nunique() != 1)]\n",
        "\n",
        "# Now plot the heatmap for the correlation matrix of numeric columns\n",
        "f, ax = plt.subplots(figsize=(12, 9))\n",
        "sns.heatmap(numeric_df.corr(), annot=False, cmap=\"coolwarm\", vmin=-1, vmax=1, ax=ax)\n",
        "plt.show()"
      ],
      "metadata": {
        "id": "5RWi-KkfYiN6"
      },
      "execution_count": null,
      "outputs": []
    },
    {
      "cell_type": "code",
      "source": [
        "def identify_columns(x_new, nrows=10):\n",
        "    columns = XXXXX.columns\n",
        "    xvalues = XXXXX.values\n",
        "    dist = np.linalg.norm(xvalues[:nrows, :, None] - x_new[:nrows, None, :], axis=0)\n",
        "    return columns[np.argmin(dist, axis=0)].values"
      ],
      "metadata": {
        "id": "EsYCoynWYh-e"
      },
      "execution_count": null,
      "outputs": []
    },
    {
      "cell_type": "code",
      "source": [
        "# Our target property is Voigt-Reuss-Hill bulk modulus ('K_VRH')\n",
        "x_data = numeric_df[numeric_df.columns.values]\n",
        "y_data = numeric_df['poly_total']"
      ],
      "metadata": {
        "id": "iBlFSTbtYiSl"
      },
      "execution_count": null,
      "outputs": []
    },
    {
      "cell_type": "code",
      "source": [
        "# Use SelectKBest to select top 10 features\n",
        "sel = XXXXXX(f_regression, k=10)\n",
        "x_new = sel.XXXXXX(x_data, y_data)\n",
        "\n",
        "# Get the mask of selected features\n",
        "mask = sel.XXXXX()  # Boolean mask of selected features\n",
        "\n",
        "# Extract the column names of the selected features\n",
        "selected_columns = XXXXX.XXXXX[mask]\n",
        "\n",
        "# Print the selected features using identify_columns\n",
        "print(f\"Selected features: {selected_columns}\")"
      ],
      "metadata": {
        "id": "eJM1LptMZm3E"
      },
      "execution_count": null,
      "outputs": []
    },
    {
      "cell_type": "code",
      "source": [
        "# Visualize the correlation using a bar plot\n",
        "\n",
        "selected_features_df = XXXXX[XXXXX]\n",
        "selected_features_df['poly_total'] = XXXXX\n",
        "correlation_matrix = selected_features_df.XXXXX()\n",
        "target_correlation = correlation_matrix['poly_total'].drop('XXXXX')\n",
        "\n",
        "# Print the correlation values\n",
        "print(\"Correlation of selected features with the target:\")\n",
        "print(target_correlation)\n",
        "\n",
        "# Visualize the correlation using a bar plot\n",
        "plt.figure(figsize=(10, 6))\n",
        "sns.barplot(x=target_correlation.index, y=target_correlation.values, palette=\"coolwarm\")\n",
        "plt.xticks(rotation=45, ha='right')\n",
        "plt.xlabel('Features')\n",
        "plt.ylabel('Correlation with Target')\n",
        "plt.title('Correlation of Selected Features with Target Property')\n",
        "plt.show()"
      ],
      "metadata": {
        "id": "a5up2_rtZ401"
      },
      "execution_count": null,
      "outputs": []
    }
  ],
  "metadata": {
    "accelerator": "GPU",
    "colab": {
      "gpuType": "T4",
      "provenance": []
    },
    "kernelspec": {
      "display_name": "Class_Practice",
      "language": "python",
      "name": "python3"
    },
    "language_info": {
      "codemirror_mode": {
        "name": "ipython",
        "version": 3
      },
      "file_extension": ".py",
      "mimetype": "text/x-python",
      "name": "python",
      "nbconvert_exporter": "python",
      "pygments_lexer": "ipython3",
      "version": "3.10.18"
    }
  },
  "nbformat": 4,
  "nbformat_minor": 0
}