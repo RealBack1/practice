{
  "cells": [
    {
      "cell_type": "markdown",
      "metadata": {
        "id": "0rEGMgy5QqoJ"
      },
      "source": [
        "#  Hands-on-session1 (Querying data from materials databases)**"
      ]
    },
    {
      "cell_type": "markdown",
      "metadata": {
        "id": "TgXaUF41Jhyz"
      },
      "source": [
        "# **Necessary Libraries**"
      ]
    },
    {
      "cell_type": "code",
      "execution_count": 1,
      "metadata": {
        "collapsed": true,
        "id": "PjktPjPSJP53"
      },
      "outputs": [
        {
          "name": "stdout",
          "output_type": "stream",
          "text": [
            "Requirement already satisfied: matminer[citrine] in /home/seungjobaek/miniconda3/envs/Class_Practice/lib/python3.10/site-packages (0.9.3)\n",
            "Requirement already satisfied: numpy>=1.23 in /home/seungjobaek/miniconda3/envs/Class_Practice/lib/python3.10/site-packages (from matminer[citrine]) (1.26.4)\n",
            "Requirement already satisfied: requests~=2.31 in /home/seungjobaek/miniconda3/envs/Class_Practice/lib/python3.10/site-packages (from matminer[citrine]) (2.32.5)\n",
            "Requirement already satisfied: pandas<3,>=1.5 in /home/seungjobaek/miniconda3/envs/Class_Practice/lib/python3.10/site-packages (from matminer[citrine]) (2.2.2)\n",
            "Requirement already satisfied: tqdm~=4.66 in /home/seungjobaek/miniconda3/envs/Class_Practice/lib/python3.10/site-packages (from matminer[citrine]) (4.67.1)\n",
            "Requirement already satisfied: pymongo~=4.5 in /home/seungjobaek/miniconda3/envs/Class_Practice/lib/python3.10/site-packages (from matminer[citrine]) (4.10.1)\n",
            "Requirement already satisfied: scikit-learn~=1.3 in /home/seungjobaek/miniconda3/envs/Class_Practice/lib/python3.10/site-packages (from matminer[citrine]) (1.7.1)\n",
            "Requirement already satisfied: sympy~=1.11 in /home/seungjobaek/miniconda3/envs/Class_Practice/lib/python3.10/site-packages (from matminer[citrine]) (1.14.0)\n",
            "Requirement already satisfied: monty>=2023 in /home/seungjobaek/miniconda3/envs/Class_Practice/lib/python3.10/site-packages (from matminer[citrine]) (2025.3.3)\n",
            "Requirement already satisfied: pymatgen>=2023 in /home/seungjobaek/miniconda3/envs/Class_Practice/lib/python3.10/site-packages (from matminer[citrine]) (2025.6.14)\n",
            "Requirement already satisfied: citrination-client in /home/seungjobaek/miniconda3/envs/Class_Practice/lib/python3.10/site-packages (from matminer[citrine]) (6.5.1)\n",
            "Requirement already satisfied: python-dateutil>=2.8.2 in /home/seungjobaek/miniconda3/envs/Class_Practice/lib/python3.10/site-packages (from pandas<3,>=1.5->matminer[citrine]) (2.9.0.post0)\n",
            "Requirement already satisfied: pytz>=2020.1 in /home/seungjobaek/miniconda3/envs/Class_Practice/lib/python3.10/site-packages (from pandas<3,>=1.5->matminer[citrine]) (2025.2)\n",
            "Requirement already satisfied: tzdata>=2022.7 in /home/seungjobaek/miniconda3/envs/Class_Practice/lib/python3.10/site-packages (from pandas<3,>=1.5->matminer[citrine]) (2025.2)\n",
            "Requirement already satisfied: dnspython<3.0.0,>=1.16.0 in /home/seungjobaek/miniconda3/envs/Class_Practice/lib/python3.10/site-packages (from pymongo~=4.5->matminer[citrine]) (2.8.0)\n",
            "Requirement already satisfied: charset_normalizer<4,>=2 in /home/seungjobaek/miniconda3/envs/Class_Practice/lib/python3.10/site-packages (from requests~=2.31->matminer[citrine]) (3.4.3)\n",
            "Requirement already satisfied: idna<4,>=2.5 in /home/seungjobaek/miniconda3/envs/Class_Practice/lib/python3.10/site-packages (from requests~=2.31->matminer[citrine]) (3.10)\n",
            "Requirement already satisfied: urllib3<3,>=1.21.1 in /home/seungjobaek/miniconda3/envs/Class_Practice/lib/python3.10/site-packages (from requests~=2.31->matminer[citrine]) (2.5.0)\n",
            "Requirement already satisfied: certifi>=2017.4.17 in /home/seungjobaek/miniconda3/envs/Class_Practice/lib/python3.10/site-packages (from requests~=2.31->matminer[citrine]) (2025.8.3)\n",
            "Requirement already satisfied: scipy>=1.8.0 in /home/seungjobaek/miniconda3/envs/Class_Practice/lib/python3.10/site-packages (from scikit-learn~=1.3->matminer[citrine]) (1.15.3)\n",
            "Requirement already satisfied: joblib>=1.2.0 in /home/seungjobaek/miniconda3/envs/Class_Practice/lib/python3.10/site-packages (from scikit-learn~=1.3->matminer[citrine]) (1.5.2)\n",
            "Requirement already satisfied: threadpoolctl>=3.1.0 in /home/seungjobaek/miniconda3/envs/Class_Practice/lib/python3.10/site-packages (from scikit-learn~=1.3->matminer[citrine]) (3.6.0)\n",
            "Requirement already satisfied: mpmath<1.4,>=1.1.0 in /home/seungjobaek/miniconda3/envs/Class_Practice/lib/python3.10/site-packages (from sympy~=1.11->matminer[citrine]) (1.3.0)\n",
            "Requirement already satisfied: ruamel.yaml in /home/seungjobaek/miniconda3/envs/Class_Practice/lib/python3.10/site-packages (from monty>=2023->matminer[citrine]) (0.17.21)\n",
            "Requirement already satisfied: bibtexparser>=1.4.0 in /home/seungjobaek/miniconda3/envs/Class_Practice/lib/python3.10/site-packages (from pymatgen>=2023->matminer[citrine]) (1.4.3)\n",
            "Requirement already satisfied: matplotlib>=3.8 in /home/seungjobaek/miniconda3/envs/Class_Practice/lib/python3.10/site-packages (from pymatgen>=2023->matminer[citrine]) (3.10.6)\n",
            "Requirement already satisfied: networkx>=2.7 in /home/seungjobaek/miniconda3/envs/Class_Practice/lib/python3.10/site-packages (from pymatgen>=2023->matminer[citrine]) (3.4.2)\n",
            "Requirement already satisfied: orjson<4,>=3.10 in /home/seungjobaek/miniconda3/envs/Class_Practice/lib/python3.10/site-packages (from pymatgen>=2023->matminer[citrine]) (3.11.3)\n",
            "Requirement already satisfied: palettable>=3.3.3 in /home/seungjobaek/miniconda3/envs/Class_Practice/lib/python3.10/site-packages (from pymatgen>=2023->matminer[citrine]) (3.3.3)\n",
            "Requirement already satisfied: plotly>=5.0.0 in /home/seungjobaek/miniconda3/envs/Class_Practice/lib/python3.10/site-packages (from pymatgen>=2023->matminer[citrine]) (6.3.0)\n",
            "Requirement already satisfied: spglib>=2.5 in /home/seungjobaek/miniconda3/envs/Class_Practice/lib/python3.10/site-packages (from pymatgen>=2023->matminer[citrine]) (2.6.0)\n",
            "Requirement already satisfied: tabulate>=0.9 in /home/seungjobaek/miniconda3/envs/Class_Practice/lib/python3.10/site-packages (from pymatgen>=2023->matminer[citrine]) (0.9.0)\n",
            "Requirement already satisfied: uncertainties>=3.1.4 in /home/seungjobaek/miniconda3/envs/Class_Practice/lib/python3.10/site-packages (from pymatgen>=2023->matminer[citrine]) (3.2.3)\n",
            "Requirement already satisfied: pyparsing>=2.0.3 in /home/seungjobaek/miniconda3/envs/Class_Practice/lib/python3.10/site-packages (from bibtexparser>=1.4.0->pymatgen>=2023->matminer[citrine]) (3.2.3)\n",
            "Requirement already satisfied: contourpy>=1.0.1 in /home/seungjobaek/miniconda3/envs/Class_Practice/lib/python3.10/site-packages (from matplotlib>=3.8->pymatgen>=2023->matminer[citrine]) (1.3.2)\n",
            "Requirement already satisfied: cycler>=0.10 in /home/seungjobaek/miniconda3/envs/Class_Practice/lib/python3.10/site-packages (from matplotlib>=3.8->pymatgen>=2023->matminer[citrine]) (0.12.1)\n",
            "Requirement already satisfied: fonttools>=4.22.0 in /home/seungjobaek/miniconda3/envs/Class_Practice/lib/python3.10/site-packages (from matplotlib>=3.8->pymatgen>=2023->matminer[citrine]) (4.59.2)\n",
            "Requirement already satisfied: kiwisolver>=1.3.1 in /home/seungjobaek/miniconda3/envs/Class_Practice/lib/python3.10/site-packages (from matplotlib>=3.8->pymatgen>=2023->matminer[citrine]) (1.4.9)\n",
            "Requirement already satisfied: packaging>=20.0 in /home/seungjobaek/miniconda3/envs/Class_Practice/lib/python3.10/site-packages (from matplotlib>=3.8->pymatgen>=2023->matminer[citrine]) (25.0)\n",
            "Requirement already satisfied: pillow>=8 in /home/seungjobaek/miniconda3/envs/Class_Practice/lib/python3.10/site-packages (from matplotlib>=3.8->pymatgen>=2023->matminer[citrine]) (11.3.0)\n",
            "Requirement already satisfied: narwhals>=1.15.1 in /home/seungjobaek/miniconda3/envs/Class_Practice/lib/python3.10/site-packages (from plotly>=5.0.0->pymatgen>=2023->matminer[citrine]) (2.3.0)\n",
            "Requirement already satisfied: six>=1.5 in /home/seungjobaek/miniconda3/envs/Class_Practice/lib/python3.10/site-packages (from python-dateutil>=2.8.2->pandas<3,>=1.5->matminer[citrine]) (1.17.0)\n",
            "Requirement already satisfied: ruamel.yaml.clib>=0.2.6 in /home/seungjobaek/miniconda3/envs/Class_Practice/lib/python3.10/site-packages (from ruamel.yaml->monty>=2023->matminer[citrine]) (0.2.12)\n",
            "Requirement already satisfied: typing-extensions>=4.9.0 in /home/seungjobaek/miniconda3/envs/Class_Practice/lib/python3.10/site-packages (from spglib>=2.5->pymatgen>=2023->matminer[citrine]) (4.15.0)\n",
            "Requirement already satisfied: pypif in /home/seungjobaek/miniconda3/envs/Class_Practice/lib/python3.10/site-packages (from citrination-client->matminer[citrine]) (2.1.2)\n",
            "Requirement already satisfied: pyyaml>=5.1.2 in /home/seungjobaek/miniconda3/envs/Class_Practice/lib/python3.10/site-packages (from citrination-client->matminer[citrine]) (6.0.2)\n",
            "Requirement already satisfied: pyyaml in /home/seungjobaek/miniconda3/envs/Class_Practice/lib/python3.10/site-packages (6.0.2)\n",
            "Requirement already satisfied: mp_api in /home/seungjobaek/miniconda3/envs/Class_Practice/lib/python3.10/site-packages (0.45.8)\n",
            "Requirement already satisfied: setuptools in /home/seungjobaek/miniconda3/envs/Class_Practice/lib/python3.10/site-packages (from mp_api) (78.1.1)\n",
            "Requirement already satisfied: msgpack in /home/seungjobaek/miniconda3/envs/Class_Practice/lib/python3.10/site-packages (from mp_api) (1.0.3)\n",
            "Requirement already satisfied: maggma>=0.57.1 in /home/seungjobaek/miniconda3/envs/Class_Practice/lib/python3.10/site-packages (from mp_api) (0.68.4)\n",
            "Requirement already satisfied: pymatgen!=2024.2.20,>=2022.3.7 in /home/seungjobaek/miniconda3/envs/Class_Practice/lib/python3.10/site-packages (from mp_api) (2025.6.14)\n",
            "Requirement already satisfied: typing-extensions>=3.7.4.1 in /home/seungjobaek/miniconda3/envs/Class_Practice/lib/python3.10/site-packages (from mp_api) (4.15.0)\n",
            "Requirement already satisfied: requests>=2.23.0 in /home/seungjobaek/miniconda3/envs/Class_Practice/lib/python3.10/site-packages (from mp_api) (2.32.5)\n",
            "Requirement already satisfied: monty>=2024.12.10 in /home/seungjobaek/miniconda3/envs/Class_Practice/lib/python3.10/site-packages (from mp_api) (2025.3.3)\n",
            "Requirement already satisfied: emmet-core>=0.84.3rc6 in /home/seungjobaek/miniconda3/envs/Class_Practice/lib/python3.10/site-packages (from mp_api) (0.84.10rc2)\n",
            "Requirement already satisfied: smart_open in /home/seungjobaek/miniconda3/envs/Class_Practice/lib/python3.10/site-packages (from mp_api) (7.3.0.post1)\n",
            "Requirement already satisfied: pydantic>=2.0 in /home/seungjobaek/miniconda3/envs/Class_Practice/lib/python3.10/site-packages (from emmet-core>=0.84.3rc6->mp_api) (2.11.7)\n",
            "Requirement already satisfied: pydantic-settings>=2.0 in /home/seungjobaek/miniconda3/envs/Class_Practice/lib/python3.10/site-packages (from emmet-core>=0.84.3rc6->mp_api) (2.10.1)\n",
            "Requirement already satisfied: pymatgen-io-validation>=0.1.0 in /home/seungjobaek/miniconda3/envs/Class_Practice/lib/python3.10/site-packages (from emmet-core>=0.84.3rc6->mp_api) (0.1.1)\n",
            "Requirement already satisfied: pybtex~=0.24 in /home/seungjobaek/miniconda3/envs/Class_Practice/lib/python3.10/site-packages (from emmet-core>=0.84.3rc6->mp_api) (0.25.1)\n",
            "Requirement already satisfied: PyYAML>=3.01 in /home/seungjobaek/miniconda3/envs/Class_Practice/lib/python3.10/site-packages (from pybtex~=0.24->emmet-core>=0.84.3rc6->mp_api) (6.0.2)\n",
            "Requirement already satisfied: latexcodec>=1.0.4 in /home/seungjobaek/miniconda3/envs/Class_Practice/lib/python3.10/site-packages (from pybtex~=0.24->emmet-core>=0.84.3rc6->mp_api) (3.0.1)\n",
            "Requirement already satisfied: ruamel.yaml>=0.17 in /home/seungjobaek/miniconda3/envs/Class_Practice/lib/python3.10/site-packages (from maggma>=0.57.1->mp_api) (0.17.21)\n",
            "Requirement already satisfied: pymongo>=4.2.0 in /home/seungjobaek/miniconda3/envs/Class_Practice/lib/python3.10/site-packages (from maggma>=0.57.1->mp_api) (4.10.1)\n",
            "Requirement already satisfied: mongomock>=3.10.0 in /home/seungjobaek/miniconda3/envs/Class_Practice/lib/python3.10/site-packages (from maggma>=0.57.1->mp_api) (4.3.0)\n",
            "Requirement already satisfied: pydash>=4.1.0 in /home/seungjobaek/miniconda3/envs/Class_Practice/lib/python3.10/site-packages (from maggma>=0.57.1->mp_api) (8.0.5)\n",
            "Requirement already satisfied: jsonschema>=3.1.1 in /home/seungjobaek/miniconda3/envs/Class_Practice/lib/python3.10/site-packages (from maggma>=0.57.1->mp_api) (4.25.1)\n",
            "Requirement already satisfied: tqdm>=4.19.6 in /home/seungjobaek/miniconda3/envs/Class_Practice/lib/python3.10/site-packages (from maggma>=0.57.1->mp_api) (4.67.1)\n",
            "Requirement already satisfied: mongogrant>=0.3.1 in /home/seungjobaek/miniconda3/envs/Class_Practice/lib/python3.10/site-packages (from maggma>=0.57.1->mp_api) (0.3.3)\n",
            "Requirement already satisfied: aioitertools>=0.5.1 in /home/seungjobaek/miniconda3/envs/Class_Practice/lib/python3.10/site-packages (from maggma>=0.57.1->mp_api) (0.12.0)\n",
            "Requirement already satisfied: numpy>=1.17.3 in /home/seungjobaek/miniconda3/envs/Class_Practice/lib/python3.10/site-packages (from maggma>=0.57.1->mp_api) (1.26.4)\n",
            "Requirement already satisfied: fastapi>=0.42.0 in /home/seungjobaek/miniconda3/envs/Class_Practice/lib/python3.10/site-packages (from maggma>=0.57.1->mp_api) (0.116.1)\n",
            "Requirement already satisfied: pyzmq>=24.0.1 in /home/seungjobaek/miniconda3/envs/Class_Practice/lib/python3.10/site-packages (from maggma>=0.57.1->mp_api) (26.2.0)\n",
            "Requirement already satisfied: dnspython>=1.16.0 in /home/seungjobaek/miniconda3/envs/Class_Practice/lib/python3.10/site-packages (from maggma>=0.57.1->mp_api) (2.8.0)\n",
            "Requirement already satisfied: sshtunnel>=0.1.5 in /home/seungjobaek/miniconda3/envs/Class_Practice/lib/python3.10/site-packages (from maggma>=0.57.1->mp_api) (0.4.0)\n",
            "Requirement already satisfied: orjson>=3.9.0 in /home/seungjobaek/miniconda3/envs/Class_Practice/lib/python3.10/site-packages (from maggma>=0.57.1->mp_api) (3.11.3)\n",
            "Requirement already satisfied: boto3>=1.20.41 in /home/seungjobaek/miniconda3/envs/Class_Practice/lib/python3.10/site-packages (from maggma>=0.57.1->mp_api) (1.40.25)\n",
            "Requirement already satisfied: python-dateutil>=2.8.2 in /home/seungjobaek/miniconda3/envs/Class_Practice/lib/python3.10/site-packages (from maggma>=0.57.1->mp_api) (2.9.0.post0)\n",
            "Requirement already satisfied: uvicorn>=0.18.3 in /home/seungjobaek/miniconda3/envs/Class_Practice/lib/python3.10/site-packages (from maggma>=0.57.1->mp_api) (0.35.0)\n",
            "Requirement already satisfied: botocore<1.41.0,>=1.40.25 in /home/seungjobaek/miniconda3/envs/Class_Practice/lib/python3.10/site-packages (from boto3>=1.20.41->maggma>=0.57.1->mp_api) (1.40.25)\n",
            "Requirement already satisfied: jmespath<2.0.0,>=0.7.1 in /home/seungjobaek/miniconda3/envs/Class_Practice/lib/python3.10/site-packages (from boto3>=1.20.41->maggma>=0.57.1->mp_api) (1.0.1)\n",
            "Requirement already satisfied: s3transfer<0.14.0,>=0.13.0 in /home/seungjobaek/miniconda3/envs/Class_Practice/lib/python3.10/site-packages (from boto3>=1.20.41->maggma>=0.57.1->mp_api) (0.13.1)\n",
            "Requirement already satisfied: urllib3!=2.2.0,<3,>=1.25.4 in /home/seungjobaek/miniconda3/envs/Class_Practice/lib/python3.10/site-packages (from botocore<1.41.0,>=1.40.25->boto3>=1.20.41->maggma>=0.57.1->mp_api) (2.5.0)\n",
            "Requirement already satisfied: six>=1.5 in /home/seungjobaek/miniconda3/envs/Class_Practice/lib/python3.10/site-packages (from python-dateutil>=2.8.2->maggma>=0.57.1->mp_api) (1.17.0)\n",
            "Requirement already satisfied: starlette<0.48.0,>=0.40.0 in /home/seungjobaek/miniconda3/envs/Class_Practice/lib/python3.10/site-packages (from fastapi>=0.42.0->maggma>=0.57.1->mp_api) (0.47.3)\n",
            "Requirement already satisfied: annotated-types>=0.6.0 in /home/seungjobaek/miniconda3/envs/Class_Practice/lib/python3.10/site-packages (from pydantic>=2.0->emmet-core>=0.84.3rc6->mp_api) (0.7.0)\n",
            "Requirement already satisfied: pydantic-core==2.33.2 in /home/seungjobaek/miniconda3/envs/Class_Practice/lib/python3.10/site-packages (from pydantic>=2.0->emmet-core>=0.84.3rc6->mp_api) (2.33.2)\n",
            "Requirement already satisfied: typing-inspection>=0.4.0 in /home/seungjobaek/miniconda3/envs/Class_Practice/lib/python3.10/site-packages (from pydantic>=2.0->emmet-core>=0.84.3rc6->mp_api) (0.4.1)\n",
            "Requirement already satisfied: anyio<5,>=3.6.2 in /home/seungjobaek/miniconda3/envs/Class_Practice/lib/python3.10/site-packages (from starlette<0.48.0,>=0.40.0->fastapi>=0.42.0->maggma>=0.57.1->mp_api) (3.7.1)\n",
            "Requirement already satisfied: idna>=2.8 in /home/seungjobaek/miniconda3/envs/Class_Practice/lib/python3.10/site-packages (from anyio<5,>=3.6.2->starlette<0.48.0,>=0.40.0->fastapi>=0.42.0->maggma>=0.57.1->mp_api) (3.10)\n",
            "Requirement already satisfied: sniffio>=1.1 in /home/seungjobaek/miniconda3/envs/Class_Practice/lib/python3.10/site-packages (from anyio<5,>=3.6.2->starlette<0.48.0,>=0.40.0->fastapi>=0.42.0->maggma>=0.57.1->mp_api) (1.3.1)\n",
            "Requirement already satisfied: exceptiongroup in /home/seungjobaek/miniconda3/envs/Class_Practice/lib/python3.10/site-packages (from anyio<5,>=3.6.2->starlette<0.48.0,>=0.40.0->fastapi>=0.42.0->maggma>=0.57.1->mp_api) (1.3.0)\n",
            "Requirement already satisfied: attrs>=22.2.0 in /home/seungjobaek/miniconda3/envs/Class_Practice/lib/python3.10/site-packages (from jsonschema>=3.1.1->maggma>=0.57.1->mp_api) (25.3.0)\n",
            "Requirement already satisfied: jsonschema-specifications>=2023.03.6 in /home/seungjobaek/miniconda3/envs/Class_Practice/lib/python3.10/site-packages (from jsonschema>=3.1.1->maggma>=0.57.1->mp_api) (2025.9.1)\n",
            "Requirement already satisfied: referencing>=0.28.4 in /home/seungjobaek/miniconda3/envs/Class_Practice/lib/python3.10/site-packages (from jsonschema>=3.1.1->maggma>=0.57.1->mp_api) (0.36.2)\n",
            "Requirement already satisfied: rpds-py>=0.7.1 in /home/seungjobaek/miniconda3/envs/Class_Practice/lib/python3.10/site-packages (from jsonschema>=3.1.1->maggma>=0.57.1->mp_api) (0.27.1)\n",
            "Requirement already satisfied: Click in /home/seungjobaek/miniconda3/envs/Class_Practice/lib/python3.10/site-packages (from mongogrant>=0.3.1->maggma>=0.57.1->mp_api) (8.2.1)\n",
            "Requirement already satisfied: Flask>=1.0 in /home/seungjobaek/miniconda3/envs/Class_Practice/lib/python3.10/site-packages (from mongogrant>=0.3.1->maggma>=0.57.1->mp_api) (3.1.2)\n",
            "Requirement already satisfied: blinker>=1.9.0 in /home/seungjobaek/miniconda3/envs/Class_Practice/lib/python3.10/site-packages (from Flask>=1.0->mongogrant>=0.3.1->maggma>=0.57.1->mp_api) (1.9.0)\n",
            "Requirement already satisfied: itsdangerous>=2.2.0 in /home/seungjobaek/miniconda3/envs/Class_Practice/lib/python3.10/site-packages (from Flask>=1.0->mongogrant>=0.3.1->maggma>=0.57.1->mp_api) (2.2.0)\n",
            "Requirement already satisfied: jinja2>=3.1.2 in /home/seungjobaek/miniconda3/envs/Class_Practice/lib/python3.10/site-packages (from Flask>=1.0->mongogrant>=0.3.1->maggma>=0.57.1->mp_api) (3.1.6)\n",
            "Requirement already satisfied: markupsafe>=2.1.1 in /home/seungjobaek/miniconda3/envs/Class_Practice/lib/python3.10/site-packages (from Flask>=1.0->mongogrant>=0.3.1->maggma>=0.57.1->mp_api) (2.1.1)\n",
            "Requirement already satisfied: werkzeug>=3.1.0 in /home/seungjobaek/miniconda3/envs/Class_Practice/lib/python3.10/site-packages (from Flask>=1.0->mongogrant>=0.3.1->maggma>=0.57.1->mp_api) (3.1.3)\n",
            "Requirement already satisfied: packaging in /home/seungjobaek/miniconda3/envs/Class_Practice/lib/python3.10/site-packages (from mongomock>=3.10.0->maggma>=0.57.1->mp_api) (25.0)\n",
            "Requirement already satisfied: pytz in /home/seungjobaek/miniconda3/envs/Class_Practice/lib/python3.10/site-packages (from mongomock>=3.10.0->maggma>=0.57.1->mp_api) (2025.2)\n",
            "Requirement already satisfied: sentinels in /home/seungjobaek/miniconda3/envs/Class_Practice/lib/python3.10/site-packages (from mongomock>=3.10.0->maggma>=0.57.1->mp_api) (1.1.1)\n",
            "Requirement already satisfied: python-dotenv>=0.21.0 in /home/seungjobaek/miniconda3/envs/Class_Practice/lib/python3.10/site-packages (from pydantic-settings>=2.0->emmet-core>=0.84.3rc6->mp_api) (1.1.1)\n",
            "Requirement already satisfied: bibtexparser>=1.4.0 in /home/seungjobaek/miniconda3/envs/Class_Practice/lib/python3.10/site-packages (from pymatgen!=2024.2.20,>=2022.3.7->mp_api) (1.4.3)\n",
            "Requirement already satisfied: joblib>=1 in /home/seungjobaek/miniconda3/envs/Class_Practice/lib/python3.10/site-packages (from pymatgen!=2024.2.20,>=2022.3.7->mp_api) (1.5.2)\n",
            "Requirement already satisfied: matplotlib>=3.8 in /home/seungjobaek/miniconda3/envs/Class_Practice/lib/python3.10/site-packages (from pymatgen!=2024.2.20,>=2022.3.7->mp_api) (3.10.6)\n",
            "Requirement already satisfied: networkx>=2.7 in /home/seungjobaek/miniconda3/envs/Class_Practice/lib/python3.10/site-packages (from pymatgen!=2024.2.20,>=2022.3.7->mp_api) (3.4.2)\n",
            "Requirement already satisfied: palettable>=3.3.3 in /home/seungjobaek/miniconda3/envs/Class_Practice/lib/python3.10/site-packages (from pymatgen!=2024.2.20,>=2022.3.7->mp_api) (3.3.3)\n",
            "Requirement already satisfied: pandas>=2 in /home/seungjobaek/miniconda3/envs/Class_Practice/lib/python3.10/site-packages (from pymatgen!=2024.2.20,>=2022.3.7->mp_api) (2.2.2)\n",
            "Requirement already satisfied: plotly>=5.0.0 in /home/seungjobaek/miniconda3/envs/Class_Practice/lib/python3.10/site-packages (from pymatgen!=2024.2.20,>=2022.3.7->mp_api) (6.3.0)\n",
            "Requirement already satisfied: scipy>=1.13.0 in /home/seungjobaek/miniconda3/envs/Class_Practice/lib/python3.10/site-packages (from pymatgen!=2024.2.20,>=2022.3.7->mp_api) (1.15.3)\n",
            "Requirement already satisfied: spglib>=2.5 in /home/seungjobaek/miniconda3/envs/Class_Practice/lib/python3.10/site-packages (from pymatgen!=2024.2.20,>=2022.3.7->mp_api) (2.6.0)\n",
            "Requirement already satisfied: sympy>=1.3 in /home/seungjobaek/miniconda3/envs/Class_Practice/lib/python3.10/site-packages (from pymatgen!=2024.2.20,>=2022.3.7->mp_api) (1.14.0)\n",
            "Requirement already satisfied: tabulate>=0.9 in /home/seungjobaek/miniconda3/envs/Class_Practice/lib/python3.10/site-packages (from pymatgen!=2024.2.20,>=2022.3.7->mp_api) (0.9.0)\n",
            "Requirement already satisfied: uncertainties>=3.1.4 in /home/seungjobaek/miniconda3/envs/Class_Practice/lib/python3.10/site-packages (from pymatgen!=2024.2.20,>=2022.3.7->mp_api) (3.2.3)\n",
            "Requirement already satisfied: pyparsing>=2.0.3 in /home/seungjobaek/miniconda3/envs/Class_Practice/lib/python3.10/site-packages (from bibtexparser>=1.4.0->pymatgen!=2024.2.20,>=2022.3.7->mp_api) (3.2.3)\n",
            "Requirement already satisfied: contourpy>=1.0.1 in /home/seungjobaek/miniconda3/envs/Class_Practice/lib/python3.10/site-packages (from matplotlib>=3.8->pymatgen!=2024.2.20,>=2022.3.7->mp_api) (1.3.2)\n",
            "Requirement already satisfied: cycler>=0.10 in /home/seungjobaek/miniconda3/envs/Class_Practice/lib/python3.10/site-packages (from matplotlib>=3.8->pymatgen!=2024.2.20,>=2022.3.7->mp_api) (0.12.1)\n",
            "Requirement already satisfied: fonttools>=4.22.0 in /home/seungjobaek/miniconda3/envs/Class_Practice/lib/python3.10/site-packages (from matplotlib>=3.8->pymatgen!=2024.2.20,>=2022.3.7->mp_api) (4.59.2)\n",
            "Requirement already satisfied: kiwisolver>=1.3.1 in /home/seungjobaek/miniconda3/envs/Class_Practice/lib/python3.10/site-packages (from matplotlib>=3.8->pymatgen!=2024.2.20,>=2022.3.7->mp_api) (1.4.9)\n",
            "Requirement already satisfied: pillow>=8 in /home/seungjobaek/miniconda3/envs/Class_Practice/lib/python3.10/site-packages (from matplotlib>=3.8->pymatgen!=2024.2.20,>=2022.3.7->mp_api) (11.3.0)\n",
            "Requirement already satisfied: tzdata>=2022.7 in /home/seungjobaek/miniconda3/envs/Class_Practice/lib/python3.10/site-packages (from pandas>=2->pymatgen!=2024.2.20,>=2022.3.7->mp_api) (2025.2)\n",
            "Requirement already satisfied: narwhals>=1.15.1 in /home/seungjobaek/miniconda3/envs/Class_Practice/lib/python3.10/site-packages (from plotly>=5.0.0->pymatgen!=2024.2.20,>=2022.3.7->mp_api) (2.3.0)\n",
            "Requirement already satisfied: charset_normalizer<4,>=2 in /home/seungjobaek/miniconda3/envs/Class_Practice/lib/python3.10/site-packages (from requests>=2.23.0->mp_api) (3.4.3)\n",
            "Requirement already satisfied: certifi>=2017.4.17 in /home/seungjobaek/miniconda3/envs/Class_Practice/lib/python3.10/site-packages (from requests>=2.23.0->mp_api) (2025.8.3)\n",
            "Requirement already satisfied: ruamel.yaml.clib>=0.2.6 in /home/seungjobaek/miniconda3/envs/Class_Practice/lib/python3.10/site-packages (from ruamel.yaml>=0.17->maggma>=0.57.1->mp_api) (0.2.12)\n",
            "Requirement already satisfied: paramiko>=2.7.2 in /home/seungjobaek/miniconda3/envs/Class_Practice/lib/python3.10/site-packages (from sshtunnel>=0.1.5->maggma>=0.57.1->mp_api) (4.0.0)\n",
            "Requirement already satisfied: bcrypt>=3.2 in /home/seungjobaek/miniconda3/envs/Class_Practice/lib/python3.10/site-packages (from paramiko>=2.7.2->sshtunnel>=0.1.5->maggma>=0.57.1->mp_api) (4.3.0)\n",
            "Requirement already satisfied: cryptography>=3.3 in /home/seungjobaek/miniconda3/envs/Class_Practice/lib/python3.10/site-packages (from paramiko>=2.7.2->sshtunnel>=0.1.5->maggma>=0.57.1->mp_api) (45.0.7)\n",
            "Requirement already satisfied: invoke>=2.0 in /home/seungjobaek/miniconda3/envs/Class_Practice/lib/python3.10/site-packages (from paramiko>=2.7.2->sshtunnel>=0.1.5->maggma>=0.57.1->mp_api) (2.2.0)\n",
            "Requirement already satisfied: pynacl>=1.5 in /home/seungjobaek/miniconda3/envs/Class_Practice/lib/python3.10/site-packages (from paramiko>=2.7.2->sshtunnel>=0.1.5->maggma>=0.57.1->mp_api) (1.5.0)\n",
            "Requirement already satisfied: cffi>=1.14 in /home/seungjobaek/miniconda3/envs/Class_Practice/lib/python3.10/site-packages (from cryptography>=3.3->paramiko>=2.7.2->sshtunnel>=0.1.5->maggma>=0.57.1->mp_api) (1.17.1)\n",
            "Requirement already satisfied: pycparser in /home/seungjobaek/miniconda3/envs/Class_Practice/lib/python3.10/site-packages (from cffi>=1.14->cryptography>=3.3->paramiko>=2.7.2->sshtunnel>=0.1.5->maggma>=0.57.1->mp_api) (2.22)\n",
            "Requirement already satisfied: mpmath<1.4,>=1.1.0 in /home/seungjobaek/miniconda3/envs/Class_Practice/lib/python3.10/site-packages (from sympy>=1.3->pymatgen!=2024.2.20,>=2022.3.7->mp_api) (1.3.0)\n",
            "Requirement already satisfied: h11>=0.8 in /home/seungjobaek/miniconda3/envs/Class_Practice/lib/python3.10/site-packages (from uvicorn>=0.18.3->maggma>=0.57.1->mp_api) (0.14.0)\n",
            "Requirement already satisfied: wrapt in /home/seungjobaek/miniconda3/envs/Class_Practice/lib/python3.10/site-packages (from smart_open->mp_api) (1.17.3)\n",
            "Requirement already satisfied: pandas==2.2.2 in /home/seungjobaek/miniconda3/envs/Class_Practice/lib/python3.10/site-packages (2.2.2)\n",
            "Requirement already satisfied: numpy>=1.22.4 in /home/seungjobaek/miniconda3/envs/Class_Practice/lib/python3.10/site-packages (from pandas==2.2.2) (1.26.4)\n",
            "Requirement already satisfied: python-dateutil>=2.8.2 in /home/seungjobaek/miniconda3/envs/Class_Practice/lib/python3.10/site-packages (from pandas==2.2.2) (2.9.0.post0)\n",
            "Requirement already satisfied: pytz>=2020.1 in /home/seungjobaek/miniconda3/envs/Class_Practice/lib/python3.10/site-packages (from pandas==2.2.2) (2025.2)\n",
            "Requirement already satisfied: tzdata>=2022.7 in /home/seungjobaek/miniconda3/envs/Class_Practice/lib/python3.10/site-packages (from pandas==2.2.2) (2025.2)\n",
            "Requirement already satisfied: six>=1.5 in /home/seungjobaek/miniconda3/envs/Class_Practice/lib/python3.10/site-packages (from python-dateutil>=2.8.2->pandas==2.2.2) (1.17.0)\n",
            "fatal: destination path 'practice' already exists and is not an empty directory.\n"
          ]
        }
      ],
      "source": [
        "!pip install matminer[citrine]\n",
        "!pip install pyyaml\n",
        "!pip install mp_api\n",
        "!pip install pandas==2.2.2\n",
        "!git clone https://github.com/RealBack1/practice.git"
      ]
    },
    {
      "cell_type": "markdown",
      "metadata": {
        "id": "HPIuGREkfJB5"
      },
      "source": [
        "# **Practice**"
      ]
    },
    {
      "cell_type": "markdown",
      "metadata": {
        "id": "QdaTwTSkPZXe"
      },
      "source": [
        "**Getting Data**\n",
        "\n",
        "*Revised from Joseph Montoya's notebook*\n",
        "\n",
        "This notebook demonstrates a few basic examples from matminer's data retrieval features. Matminer supports data retrieval from the following sources.\n",
        "\n",
        "*   Materials Project (https://materialsproject.org/)"
      ]
    },
    {
      "cell_type": "markdown",
      "metadata": {
        "id": "IUG5wIRx8paz"
      },
      "source": [
        "This notebook was last updated 11/15/18 for version 0.4.5 of matminer.\n",
        "\n",
        "Each resource has a corresponding object in matminer designed for retrieving data and preprocessing it into a pandas dataframe. In addition, matminer can also access and aggregate data from your own mongo database, if you have one.\n"
      ]
    },
    {
      "cell_type": "markdown",
      "metadata": {
        "id": "ZSby6KdU9PTU"
      },
      "source": [
        "**Data retrieval**\n",
        "\n",
        "The materials project data retrieval tool, matminer.data_retrieval.retrieve_MP.MPDataRetrieval is initialized using an api_key that can be found on your personal dashboard page on materialsproject.org if you've created an account. If you've set your api key via pymatgen (e.g. pmg config --add PMG_MAPI_KEY YOUR_API_KEY_HERE), the data retrieval tool may be initialized without an input argument."
      ]
    },
    {
      "cell_type": "markdown",
      "metadata": {
        "id": "HBvPCPrf9aTF"
      },
      "source": [
        "**We need our own MP API Key**"
      ]
    },
    {
      "cell_type": "code",
      "execution_count": 2,
      "metadata": {
        "id": "ka1So7FPXFAR"
      },
      "outputs": [
        {
          "name": "stderr",
          "output_type": "stream",
          "text": [
            "/home/seungjobaek/miniconda3/envs/Class_Practice/lib/python3.10/site-packages/tqdm/auto.py:21: TqdmWarning: IProgress not found. Please update jupyter and ipywidgets. See https://ipywidgets.readthedocs.io/en/stable/user_install.html\n",
            "  from .autonotebook import tqdm as notebook_tqdm\n"
          ]
        }
      ],
      "source": [
        "## Materials Project API client: https://docs.materialsproject.org/downloading-data/using-the-api/getting-started\n",
        "## Loading module of MP API client\n",
        "from mp_api.client import MPRester\n",
        "import pandas as pd"
      ]
    },
    {
      "cell_type": "code",
      "execution_count": 4,
      "metadata": {
        "id": "Ucq_cE2dYrMK"
      },
      "outputs": [],
      "source": [
        "## Put your own API key\n",
        "my_api_key = \"\"\n",
        "mpr = MPRester(my_api_key)"
      ]
    },
    {
      "cell_type": "code",
      "execution_count": 5,
      "metadata": {},
      "outputs": [
        {
          "name": "stdout",
          "output_type": "stream",
          "text": [
            "['builder_meta', 'nsites', 'elements', 'nelements', 'composition', 'composition_reduced', 'formula_pretty', 'formula_anonymous', 'chemsys', 'volume', 'density', 'density_atomic', 'symmetry', 'property_name', 'material_id', 'deprecated', 'deprecation_reasons', 'last_updated', 'origins', 'warnings', 'structure', 'task_ids', 'uncorrected_energy_per_atom', 'energy_per_atom', 'formation_energy_per_atom', 'energy_above_hull', 'is_stable', 'equilibrium_reaction_energy_per_atom', 'decomposes_to', 'xas', 'grain_boundaries', 'band_gap', 'cbm', 'vbm', 'efermi', 'is_gap_direct', 'is_metal', 'es_source_calc_id', 'bandstructure', 'dos', 'dos_energy_up', 'dos_energy_down', 'is_magnetic', 'ordering', 'total_magnetization', 'total_magnetization_normalized_vol', 'total_magnetization_normalized_formula_units', 'num_magnetic_sites', 'num_unique_magnetic_sites', 'types_of_magnetic_species', 'bulk_modulus', 'shear_modulus', 'universal_anisotropy', 'homogeneous_poisson', 'e_total', 'e_ionic', 'e_electronic', 'n', 'e_ij_max', 'weighted_surface_energy_EV_PER_ANG2', 'weighted_surface_energy', 'weighted_work_function', 'surface_anisotropy', 'shape_factor', 'has_reconstructed', 'possible_species', 'has_props', 'theoretical', 'database_Ids']\n"
          ]
        }
      ],
      "source": [
        "list_of_available_fields = mpr.materials.summary.available_fields\n",
        "print(list_of_available_fields)"
      ]
    },
    {
      "cell_type": "markdown",
      "metadata": {},
      "source": [
        "**Practice 1: Get various properties of binary oxide materials with \"AO\" formula**"
      ]
    },
    {
      "cell_type": "code",
      "execution_count": null,
      "metadata": {
        "vscode": {
          "languageId": "plaintext"
        }
      },
      "outputs": [],
      "source": [
        "docs = mpr.materials.summary.search(chemsys=\"*-O\", formula=\"AB\", fields=list_of_available_fields)\n",
        "results = [doc.dict() for doc in docs]\n",
        "df_full = pd.DataFrame(results)\n",
        "# df_full = pd.read_excel(\"/content/practice/Class/data/Hands_on_session1_data.xlsx\", sheet_name=\"example_1\")\n",
        "df = df_full.loc[:, [\"formula_pretty\", \"material_id\", \"formation_energy_per_atom\", \"energy_above_hull\", \"band_gap\"]]\n",
        "sdf = df.sort_values(by=\"formation_energy_per_atom\", axis=0)\n",
        "sdf.head(10)"
      ]
    },
    {
      "cell_type": "markdown",
      "metadata": {
        "vscode": {
          "languageId": "markdown"
        }
      },
      "source": [
        "**Practice 2: Draw the phase diagram for Li-Ni-O**\n",
        "\n",
        "(This code was written with reference to the Jupyter notebook by Materials Virtual Lab(https://matgenb.materialsvirtuallab.org/))"
      ]
    },
    {
      "cell_type": "code",
      "execution_count": null,
      "metadata": {
        "collapsed": true,
        "id": "sIh0Hnk_csiB"
      },
      "outputs": [],
      "source": [
        "from pymatgen.analysis.phase_diagram import PhaseDiagram, PDPlotter\n",
        "entries = mpr.get_entries_in_chemsys(elements=[\"Li\", \"Ni\", \"O\"], additional_criteria={\"thermo_types\": [\"GGA_GGA+U\"]})\n",
        "pd = PhaseDiagram(entries)\n",
        "plotter = PDPlotter(pd, backend=\"matplotlib\")\n",
        "plotter.show()"
      ]
    },
    {
      "cell_type": "markdown",
      "metadata": {
        "id": "kO97hpYxdFnm"
      },
      "source": [
        "**Practice 3: Among the Li–X–O compounds, identify those with the R-3m crystal structure, and classify the stable ones (with energy_above_hull = 0)**"
      ]
    },
    {
      "cell_type": "code",
      "execution_count": 7,
      "metadata": {},
      "outputs": [
        {
          "ename": "MPRestError",
          "evalue": "REST query returned with error status code 401 on URL https://api.materialsproject.org/materials/summary/?nelements_min=3&nelements_max=3&spacegroup_symbol=R-3m&_fields=builder_meta%2Cnsites%2Celements%2Cnelements%2Ccomposition%2Ccomposition_reduced%2Cformula_pretty%2Cformula_anonymous%2Cchemsys%2Cvolume%2Cdensity%2Cdensity_atomic%2Csymmetry%2Cproperty_name%2Cmaterial_id%2Cdeprecated%2Cdeprecation_reasons%2Clast_updated%2Corigins%2Cwarnings%2Cstructure%2Ctask_ids%2Cuncorrected_energy_per_atom%2Cenergy_per_atom%2Cformation_energy_per_atom%2Cenergy_above_hull%2Cis_stable%2Cequilibrium_reaction_energy_per_atom%2Cdecomposes_to%2Cxas%2Cgrain_boundaries%2Cband_gap%2Ccbm%2Cvbm%2Cefermi%2Cis_gap_direct%2Cis_metal%2Ces_source_calc_id%2Cbandstructure%2Cdos%2Cdos_energy_up%2Cdos_energy_down%2Cis_magnetic%2Cordering%2Ctotal_magnetization%2Ctotal_magnetization_normalized_vol%2Ctotal_magnetization_normalized_formula_units%2Cnum_magnetic_sites%2Cnum_unique_magnetic_sites%2Ctypes_of_magnetic_species%2Cbulk_modulus%2Cshear_modulus%2Cuniversal_anisotropy%2Chomogeneous_poisson%2Ce_total%2Ce_ionic%2Ce_electronic%2Cn%2Ce_ij_max%2Cweighted_surface_energy_EV_PER_ANG2%2Cweighted_surface_energy%2Cweighted_work_function%2Csurface_anisotropy%2Cshape_factor%2Chas_reconstructed%2Cpossible_species%2Chas_props%2Ctheoretical%2Cdatabase_Ids&chemsys=Li-%2A-O&_limit=1000 with message:\nResponse {\n  \"message\":\"No API key found in request\"\n}",
          "output_type": "error",
          "traceback": [
            "\u001b[0;31m---------------------------------------------------------------------------\u001b[0m",
            "\u001b[0;31mMPRestError\u001b[0m                               Traceback (most recent call last)",
            "Cell \u001b[0;32mIn[7], line 4\u001b[0m\n\u001b[1;32m      1\u001b[0m pd\u001b[38;5;241m.\u001b[39mset_option(\u001b[38;5;124m\"\u001b[39m\u001b[38;5;124mdisplay.max_rows\u001b[39m\u001b[38;5;124m\"\u001b[39m, \u001b[38;5;28;01mNone\u001b[39;00m)   \u001b[38;5;66;03m# None → 제한 없음\u001b[39;00m\n\u001b[1;32m      2\u001b[0m pd\u001b[38;5;241m.\u001b[39mset_option(\u001b[38;5;124m\"\u001b[39m\u001b[38;5;124mdisplay.max_columns\u001b[39m\u001b[38;5;124m\"\u001b[39m, \u001b[38;5;28;01mNone\u001b[39;00m)\n\u001b[0;32m----> 4\u001b[0m docs \u001b[38;5;241m=\u001b[39m \u001b[43mmpr\u001b[49m\u001b[38;5;241;43m.\u001b[39;49m\u001b[43mmaterials\u001b[49m\u001b[38;5;241;43m.\u001b[39;49m\u001b[43msummary\u001b[49m\u001b[38;5;241;43m.\u001b[39;49m\u001b[43msearch\u001b[49m\u001b[43m(\u001b[49m\u001b[43mchemsys\u001b[49m\u001b[38;5;241;43m=\u001b[39;49m\u001b[38;5;124;43m\"\u001b[39;49m\u001b[38;5;124;43mLi-*-O\u001b[39;49m\u001b[38;5;124;43m\"\u001b[39;49m\u001b[43m,\u001b[49m\u001b[43m \u001b[49m\u001b[43mnum_elements\u001b[49m\u001b[38;5;241;43m=\u001b[39;49m\u001b[38;5;241;43m3\u001b[39;49m\u001b[43m,\u001b[49m\u001b[43m \u001b[49m\u001b[43mspacegroup_symbol\u001b[49m\u001b[38;5;241;43m=\u001b[39;49m\u001b[38;5;124;43m\"\u001b[39;49m\u001b[38;5;124;43mR-3m\u001b[39;49m\u001b[38;5;124;43m\"\u001b[39;49m\u001b[43m,\u001b[49m\u001b[43m \u001b[49m\u001b[43mfields\u001b[49m\u001b[38;5;241;43m=\u001b[39;49m\u001b[43mlist_of_available_fields\u001b[49m\u001b[43m)\u001b[49m\n\u001b[1;32m      5\u001b[0m results \u001b[38;5;241m=\u001b[39m [doc\u001b[38;5;241m.\u001b[39mdict() \u001b[38;5;28;01mfor\u001b[39;00m doc \u001b[38;5;129;01min\u001b[39;00m docs]\n\u001b[1;32m      6\u001b[0m df_full \u001b[38;5;241m=\u001b[39m pd\u001b[38;5;241m.\u001b[39mDataFrame(results)\n",
            "File \u001b[0;32m~/miniconda3/envs/Class_Practice/lib/python3.10/site-packages/mp_api/client/routes/materials/summary.py:367\u001b[0m, in \u001b[0;36mSummaryRester.search\u001b[0;34m(self, band_gap, chemsys, crystal_system, density, deprecated, e_electronic, e_ionic, e_total, efermi, elastic_anisotropy, elements, energy_above_hull, equilibrium_reaction_energy, exclude_elements, formation_energy, formula, g_reuss, g_voigt, g_vrh, has_props, has_reconstructed, is_gap_direct, is_metal, is_stable, k_reuss, k_voigt, k_vrh, magnetic_ordering, material_ids, n, num_elements, num_sites, num_magnetic_sites, num_unique_magnetic_sites, piezoelectric_modulus, poisson_ratio, possible_species, shape_factor, spacegroup_number, spacegroup_symbol, surface_energy_anisotropy, theoretical, total_energy, total_magnetization, total_magnetization_normalized_formula_units, total_magnetization_normalized_vol, uncorrected_energy, volume, weighted_surface_energy, weighted_work_function, include_gnome, num_chunks, chunk_size, all_fields, fields, **kwargs)\u001b[0m\n\u001b[1;32m    359\u001b[0m     query_params\u001b[38;5;241m.\u001b[39mupdate({\u001b[38;5;124m\"\u001b[39m\u001b[38;5;124mbatch_id_not_eq\u001b[39m\u001b[38;5;124m\"\u001b[39m: \u001b[38;5;124m\"\u001b[39m\u001b[38;5;124mgnome_r2scan_statics\u001b[39m\u001b[38;5;124m\"\u001b[39m})\n\u001b[1;32m    361\u001b[0m query_params \u001b[38;5;241m=\u001b[39m {\n\u001b[1;32m    362\u001b[0m     entry: query_params[entry]\n\u001b[1;32m    363\u001b[0m     \u001b[38;5;28;01mfor\u001b[39;00m entry \u001b[38;5;129;01min\u001b[39;00m query_params\n\u001b[1;32m    364\u001b[0m     \u001b[38;5;28;01mif\u001b[39;00m query_params[entry] \u001b[38;5;129;01mis\u001b[39;00m \u001b[38;5;129;01mnot\u001b[39;00m \u001b[38;5;28;01mNone\u001b[39;00m\n\u001b[1;32m    365\u001b[0m }\n\u001b[0;32m--> 367\u001b[0m \u001b[38;5;28;01mreturn\u001b[39;00m \u001b[38;5;28;43msuper\u001b[39;49m\u001b[43m(\u001b[49m\u001b[43m)\u001b[49m\u001b[38;5;241;43m.\u001b[39;49m\u001b[43m_search\u001b[49m\u001b[43m(\u001b[49m\n\u001b[1;32m    368\u001b[0m \u001b[43m    \u001b[49m\u001b[43mnum_chunks\u001b[49m\u001b[38;5;241;43m=\u001b[39;49m\u001b[43mnum_chunks\u001b[49m\u001b[43m,\u001b[49m\n\u001b[1;32m    369\u001b[0m \u001b[43m    \u001b[49m\u001b[43mchunk_size\u001b[49m\u001b[38;5;241;43m=\u001b[39;49m\u001b[43mchunk_size\u001b[49m\u001b[43m,\u001b[49m\n\u001b[1;32m    370\u001b[0m \u001b[43m    \u001b[49m\u001b[43mall_fields\u001b[49m\u001b[38;5;241;43m=\u001b[39;49m\u001b[43mall_fields\u001b[49m\u001b[43m,\u001b[49m\n\u001b[1;32m    371\u001b[0m \u001b[43m    \u001b[49m\u001b[43mfields\u001b[49m\u001b[38;5;241;43m=\u001b[39;49m\u001b[43mfields\u001b[49m\u001b[43m,\u001b[49m\n\u001b[1;32m    372\u001b[0m \u001b[43m    \u001b[49m\u001b[38;5;241;43m*\u001b[39;49m\u001b[38;5;241;43m*\u001b[39;49m\u001b[43mquery_params\u001b[49m\u001b[43m,\u001b[49m\n\u001b[1;32m    373\u001b[0m \u001b[43m\u001b[49m\u001b[43m)\u001b[49m\n",
            "File \u001b[0;32m~/miniconda3/envs/Class_Practice/lib/python3.10/site-packages/mp_api/client/core/client.py:1191\u001b[0m, in \u001b[0;36mBaseRester._search\u001b[0;34m(self, num_chunks, chunk_size, all_fields, fields, **kwargs)\u001b[0m\n\u001b[1;32m   1169\u001b[0m \u001b[38;5;250m\u001b[39m\u001b[38;5;124;03m\"\"\"A generic search method to retrieve documents matching specific parameters.\u001b[39;00m\n\u001b[1;32m   1170\u001b[0m \n\u001b[1;32m   1171\u001b[0m \u001b[38;5;124;03mArguments:\u001b[39;00m\n\u001b[0;32m   (...)\u001b[0m\n\u001b[1;32m   1186\u001b[0m \u001b[38;5;124;03m    A list of documents.\u001b[39;00m\n\u001b[1;32m   1187\u001b[0m \u001b[38;5;124;03m\"\"\"\u001b[39;00m\n\u001b[1;32m   1188\u001b[0m \u001b[38;5;66;03m# This method should be customized for each end point to give more user friendly,\u001b[39;00m\n\u001b[1;32m   1189\u001b[0m \u001b[38;5;66;03m# documented kwargs.\u001b[39;00m\n\u001b[0;32m-> 1191\u001b[0m \u001b[38;5;28;01mreturn\u001b[39;00m \u001b[38;5;28;43mself\u001b[39;49m\u001b[38;5;241;43m.\u001b[39;49m\u001b[43m_get_all_documents\u001b[49m\u001b[43m(\u001b[49m\n\u001b[1;32m   1192\u001b[0m \u001b[43m    \u001b[49m\u001b[43mkwargs\u001b[49m\u001b[43m,\u001b[49m\n\u001b[1;32m   1193\u001b[0m \u001b[43m    \u001b[49m\u001b[43mall_fields\u001b[49m\u001b[38;5;241;43m=\u001b[39;49m\u001b[43mall_fields\u001b[49m\u001b[43m,\u001b[49m\n\u001b[1;32m   1194\u001b[0m \u001b[43m    \u001b[49m\u001b[43mfields\u001b[49m\u001b[38;5;241;43m=\u001b[39;49m\u001b[43mfields\u001b[49m\u001b[43m,\u001b[49m\n\u001b[1;32m   1195\u001b[0m \u001b[43m    \u001b[49m\u001b[43mchunk_size\u001b[49m\u001b[38;5;241;43m=\u001b[39;49m\u001b[43mchunk_size\u001b[49m\u001b[43m,\u001b[49m\n\u001b[1;32m   1196\u001b[0m \u001b[43m    \u001b[49m\u001b[43mnum_chunks\u001b[49m\u001b[38;5;241;43m=\u001b[39;49m\u001b[43mnum_chunks\u001b[49m\u001b[43m,\u001b[49m\n\u001b[1;32m   1197\u001b[0m \u001b[43m\u001b[49m\u001b[43m)\u001b[49m\n",
            "File \u001b[0;32m~/miniconda3/envs/Class_Practice/lib/python3.10/site-packages/mp_api/client/core/client.py:1264\u001b[0m, in \u001b[0;36mBaseRester._get_all_documents\u001b[0;34m(self, query_params, all_fields, fields, chunk_size, num_chunks)\u001b[0m\n\u001b[1;32m   1250\u001b[0m list_entries \u001b[38;5;241m=\u001b[39m \u001b[38;5;28msorted\u001b[39m(\n\u001b[1;32m   1251\u001b[0m     (\n\u001b[1;32m   1252\u001b[0m         (key, \u001b[38;5;28mlen\u001b[39m(entry\u001b[38;5;241m.\u001b[39msplit(\u001b[38;5;124m\"\u001b[39m\u001b[38;5;124m,\u001b[39m\u001b[38;5;124m\"\u001b[39m)))\n\u001b[0;32m   (...)\u001b[0m\n\u001b[1;32m   1259\u001b[0m     reverse\u001b[38;5;241m=\u001b[39m\u001b[38;5;28;01mTrue\u001b[39;00m,\n\u001b[1;32m   1260\u001b[0m )\n\u001b[1;32m   1262\u001b[0m chosen_param \u001b[38;5;241m=\u001b[39m list_entries[\u001b[38;5;241m0\u001b[39m][\u001b[38;5;241m0\u001b[39m] \u001b[38;5;28;01mif\u001b[39;00m \u001b[38;5;28mlen\u001b[39m(list_entries) \u001b[38;5;241m>\u001b[39m \u001b[38;5;241m0\u001b[39m \u001b[38;5;28;01melse\u001b[39;00m \u001b[38;5;28;01mNone\u001b[39;00m\n\u001b[0;32m-> 1264\u001b[0m results \u001b[38;5;241m=\u001b[39m \u001b[38;5;28;43mself\u001b[39;49m\u001b[38;5;241;43m.\u001b[39;49m\u001b[43m_query_resource\u001b[49m\u001b[43m(\u001b[49m\n\u001b[1;32m   1265\u001b[0m \u001b[43m    \u001b[49m\u001b[43mquery_params\u001b[49m\u001b[43m,\u001b[49m\n\u001b[1;32m   1266\u001b[0m \u001b[43m    \u001b[49m\u001b[43mfields\u001b[49m\u001b[38;5;241;43m=\u001b[39;49m\u001b[43mfields\u001b[49m\u001b[43m,\u001b[49m\n\u001b[1;32m   1267\u001b[0m \u001b[43m    \u001b[49m\u001b[43mparallel_param\u001b[49m\u001b[38;5;241;43m=\u001b[39;49m\u001b[43mchosen_param\u001b[49m\u001b[43m,\u001b[49m\n\u001b[1;32m   1268\u001b[0m \u001b[43m    \u001b[49m\u001b[43mchunk_size\u001b[49m\u001b[38;5;241;43m=\u001b[39;49m\u001b[43mchunk_size\u001b[49m\u001b[43m,\u001b[49m\n\u001b[1;32m   1269\u001b[0m \u001b[43m    \u001b[49m\u001b[43mnum_chunks\u001b[49m\u001b[38;5;241;43m=\u001b[39;49m\u001b[43mnum_chunks\u001b[49m\u001b[43m,\u001b[49m\n\u001b[1;32m   1270\u001b[0m \u001b[43m\u001b[49m\u001b[43m)\u001b[49m\n\u001b[1;32m   1272\u001b[0m \u001b[38;5;28;01mreturn\u001b[39;00m results[\u001b[38;5;124m\"\u001b[39m\u001b[38;5;124mdata\u001b[39m\u001b[38;5;124m\"\u001b[39m]\n",
            "File \u001b[0;32m~/miniconda3/envs/Class_Practice/lib/python3.10/site-packages/mp_api/client/core/client.py:570\u001b[0m, in \u001b[0;36mBaseRester._query_resource\u001b[0;34m(self, criteria, fields, suburl, use_document_model, parallel_param, num_chunks, chunk_size, timeout)\u001b[0m\n\u001b[1;32m    568\u001b[0m         data[\u001b[38;5;124m\"\u001b[39m\u001b[38;5;124mmeta\u001b[39m\u001b[38;5;124m\"\u001b[39m][\u001b[38;5;124m\"\u001b[39m\u001b[38;5;124mtotal_doc\u001b[39m\u001b[38;5;124m\"\u001b[39m] \u001b[38;5;241m=\u001b[39m \u001b[38;5;28mlen\u001b[39m(data[\u001b[38;5;124m\"\u001b[39m\u001b[38;5;124mdata\u001b[39m\u001b[38;5;124m\"\u001b[39m])\n\u001b[1;32m    569\u001b[0m     \u001b[38;5;28;01melse\u001b[39;00m:\n\u001b[0;32m--> 570\u001b[0m         data \u001b[38;5;241m=\u001b[39m \u001b[38;5;28;43mself\u001b[39;49m\u001b[38;5;241;43m.\u001b[39;49m\u001b[43m_submit_requests\u001b[49m\u001b[43m(\u001b[49m\n\u001b[1;32m    571\u001b[0m \u001b[43m            \u001b[49m\u001b[43murl\u001b[49m\u001b[38;5;241;43m=\u001b[39;49m\u001b[43murl\u001b[49m\u001b[43m,\u001b[49m\n\u001b[1;32m    572\u001b[0m \u001b[43m            \u001b[49m\u001b[43mcriteria\u001b[49m\u001b[38;5;241;43m=\u001b[39;49m\u001b[43mcriteria\u001b[49m\u001b[43m,\u001b[49m\n\u001b[1;32m    573\u001b[0m \u001b[43m            \u001b[49m\u001b[43muse_document_model\u001b[49m\u001b[38;5;241;43m=\u001b[39;49m\u001b[38;5;129;43;01mnot\u001b[39;49;00m\u001b[43m \u001b[49m\u001b[43mquery_s3\u001b[49m\u001b[43m \u001b[49m\u001b[38;5;129;43;01mand\u001b[39;49;00m\u001b[43m \u001b[49m\u001b[43muse_document_model\u001b[49m\u001b[43m,\u001b[49m\n\u001b[1;32m    574\u001b[0m \u001b[43m            \u001b[49m\u001b[43mparallel_param\u001b[49m\u001b[38;5;241;43m=\u001b[39;49m\u001b[43mparallel_param\u001b[49m\u001b[43m,\u001b[49m\n\u001b[1;32m    575\u001b[0m \u001b[43m            \u001b[49m\u001b[43mnum_chunks\u001b[49m\u001b[38;5;241;43m=\u001b[39;49m\u001b[43mnum_chunks\u001b[49m\u001b[43m,\u001b[49m\n\u001b[1;32m    576\u001b[0m \u001b[43m            \u001b[49m\u001b[43mchunk_size\u001b[49m\u001b[38;5;241;43m=\u001b[39;49m\u001b[43mchunk_size\u001b[49m\u001b[43m,\u001b[49m\n\u001b[1;32m    577\u001b[0m \u001b[43m            \u001b[49m\u001b[43mtimeout\u001b[49m\u001b[38;5;241;43m=\u001b[39;49m\u001b[43mtimeout\u001b[49m\u001b[43m,\u001b[49m\n\u001b[1;32m    578\u001b[0m \u001b[43m        \u001b[49m\u001b[43m)\u001b[49m\n\u001b[1;32m    579\u001b[0m     \u001b[38;5;28;01mreturn\u001b[39;00m data\n\u001b[1;32m    581\u001b[0m \u001b[38;5;28;01mexcept\u001b[39;00m RequestException \u001b[38;5;28;01mas\u001b[39;00m ex:\n",
            "File \u001b[0;32m~/miniconda3/envs/Class_Practice/lib/python3.10/site-packages/mp_api/client/core/client.py:717\u001b[0m, in \u001b[0;36mBaseRester._submit_requests\u001b[0;34m(self, url, criteria, use_document_model, chunk_size, parallel_param, num_chunks, timeout)\u001b[0m\n\u001b[1;32m    704\u001b[0m remaining_docs_avail \u001b[38;5;241m=\u001b[39m {}\n\u001b[1;32m    706\u001b[0m initial_params_list \u001b[38;5;241m=\u001b[39m [\n\u001b[1;32m    707\u001b[0m     {\n\u001b[1;32m    708\u001b[0m         \u001b[38;5;124m\"\u001b[39m\u001b[38;5;124murl\u001b[39m\u001b[38;5;124m\"\u001b[39m: url,\n\u001b[0;32m   (...)\u001b[0m\n\u001b[1;32m    714\u001b[0m     \u001b[38;5;28;01mfor\u001b[39;00m crit \u001b[38;5;129;01min\u001b[39;00m new_criteria\n\u001b[1;32m    715\u001b[0m ]\n\u001b[0;32m--> 717\u001b[0m initial_data_tuples \u001b[38;5;241m=\u001b[39m \u001b[38;5;28;43mself\u001b[39;49m\u001b[38;5;241;43m.\u001b[39;49m\u001b[43m_multi_thread\u001b[49m\u001b[43m(\u001b[49m\n\u001b[1;32m    718\u001b[0m \u001b[43m    \u001b[49m\u001b[38;5;28;43mself\u001b[39;49m\u001b[38;5;241;43m.\u001b[39;49m\u001b[43m_submit_request_and_process\u001b[49m\u001b[43m,\u001b[49m\u001b[43m \u001b[49m\u001b[43minitial_params_list\u001b[49m\n\u001b[1;32m    719\u001b[0m \u001b[43m\u001b[49m\u001b[43m)\u001b[49m\n\u001b[1;32m    721\u001b[0m \u001b[38;5;28;01mfor\u001b[39;00m data, subtotal, crit_ind \u001b[38;5;129;01min\u001b[39;00m initial_data_tuples:\n\u001b[1;32m    722\u001b[0m     subtotals\u001b[38;5;241m.\u001b[39mappend(subtotal)\n",
            "File \u001b[0;32m~/miniconda3/envs/Class_Practice/lib/python3.10/site-packages/mp_api/client/core/client.py:939\u001b[0m, in \u001b[0;36mBaseRester._multi_thread\u001b[0;34m(self, func, params_list, progress_bar)\u001b[0m\n\u001b[1;32m    936\u001b[0m finished, futures \u001b[38;5;241m=\u001b[39m wait(futures, return_when\u001b[38;5;241m=\u001b[39mFIRST_COMPLETED)\n\u001b[1;32m    938\u001b[0m \u001b[38;5;28;01mfor\u001b[39;00m future \u001b[38;5;129;01min\u001b[39;00m finished:\n\u001b[0;32m--> 939\u001b[0m     data, subtotal \u001b[38;5;241m=\u001b[39m \u001b[43mfuture\u001b[49m\u001b[38;5;241;43m.\u001b[39;49m\u001b[43mresult\u001b[49m\u001b[43m(\u001b[49m\u001b[43m)\u001b[49m\n\u001b[1;32m    941\u001b[0m     \u001b[38;5;28;01mif\u001b[39;00m progress_bar \u001b[38;5;129;01mis\u001b[39;00m \u001b[38;5;129;01mnot\u001b[39;00m \u001b[38;5;28;01mNone\u001b[39;00m:\n\u001b[1;32m    942\u001b[0m         \u001b[38;5;28;01mif\u001b[39;00m \u001b[38;5;28misinstance\u001b[39m(data, \u001b[38;5;28mdict\u001b[39m):\n",
            "File \u001b[0;32m~/miniconda3/envs/Class_Practice/lib/python3.10/concurrent/futures/_base.py:451\u001b[0m, in \u001b[0;36mFuture.result\u001b[0;34m(self, timeout)\u001b[0m\n\u001b[1;32m    449\u001b[0m     \u001b[38;5;28;01mraise\u001b[39;00m CancelledError()\n\u001b[1;32m    450\u001b[0m \u001b[38;5;28;01melif\u001b[39;00m \u001b[38;5;28mself\u001b[39m\u001b[38;5;241m.\u001b[39m_state \u001b[38;5;241m==\u001b[39m FINISHED:\n\u001b[0;32m--> 451\u001b[0m     \u001b[38;5;28;01mreturn\u001b[39;00m \u001b[38;5;28;43mself\u001b[39;49m\u001b[38;5;241;43m.\u001b[39;49m\u001b[43m__get_result\u001b[49m\u001b[43m(\u001b[49m\u001b[43m)\u001b[49m\n\u001b[1;32m    453\u001b[0m \u001b[38;5;28mself\u001b[39m\u001b[38;5;241m.\u001b[39m_condition\u001b[38;5;241m.\u001b[39mwait(timeout)\n\u001b[1;32m    455\u001b[0m \u001b[38;5;28;01mif\u001b[39;00m \u001b[38;5;28mself\u001b[39m\u001b[38;5;241m.\u001b[39m_state \u001b[38;5;129;01min\u001b[39;00m [CANCELLED, CANCELLED_AND_NOTIFIED]:\n",
            "File \u001b[0;32m~/miniconda3/envs/Class_Practice/lib/python3.10/concurrent/futures/_base.py:403\u001b[0m, in \u001b[0;36mFuture.__get_result\u001b[0;34m(self)\u001b[0m\n\u001b[1;32m    401\u001b[0m \u001b[38;5;28;01mif\u001b[39;00m \u001b[38;5;28mself\u001b[39m\u001b[38;5;241m.\u001b[39m_exception:\n\u001b[1;32m    402\u001b[0m     \u001b[38;5;28;01mtry\u001b[39;00m:\n\u001b[0;32m--> 403\u001b[0m         \u001b[38;5;28;01mraise\u001b[39;00m \u001b[38;5;28mself\u001b[39m\u001b[38;5;241m.\u001b[39m_exception\n\u001b[1;32m    404\u001b[0m     \u001b[38;5;28;01mfinally\u001b[39;00m:\n\u001b[1;32m    405\u001b[0m         \u001b[38;5;66;03m# Break a reference cycle with the exception in self._exception\u001b[39;00m\n\u001b[1;32m    406\u001b[0m         \u001b[38;5;28mself\u001b[39m \u001b[38;5;241m=\u001b[39m \u001b[38;5;28;01mNone\u001b[39;00m\n",
            "File \u001b[0;32m~/miniconda3/envs/Class_Practice/lib/python3.10/concurrent/futures/thread.py:58\u001b[0m, in \u001b[0;36m_WorkItem.run\u001b[0;34m(self)\u001b[0m\n\u001b[1;32m     55\u001b[0m     \u001b[38;5;28;01mreturn\u001b[39;00m\n\u001b[1;32m     57\u001b[0m \u001b[38;5;28;01mtry\u001b[39;00m:\n\u001b[0;32m---> 58\u001b[0m     result \u001b[38;5;241m=\u001b[39m \u001b[38;5;28;43mself\u001b[39;49m\u001b[38;5;241;43m.\u001b[39;49m\u001b[43mfn\u001b[49m\u001b[43m(\u001b[49m\u001b[38;5;241;43m*\u001b[39;49m\u001b[38;5;28;43mself\u001b[39;49m\u001b[38;5;241;43m.\u001b[39;49m\u001b[43margs\u001b[49m\u001b[43m,\u001b[49m\u001b[43m \u001b[49m\u001b[38;5;241;43m*\u001b[39;49m\u001b[38;5;241;43m*\u001b[39;49m\u001b[38;5;28;43mself\u001b[39;49m\u001b[38;5;241;43m.\u001b[39;49m\u001b[43mkwargs\u001b[49m\u001b[43m)\u001b[49m\n\u001b[1;32m     59\u001b[0m \u001b[38;5;28;01mexcept\u001b[39;00m \u001b[38;5;167;01mBaseException\u001b[39;00m \u001b[38;5;28;01mas\u001b[39;00m exc:\n\u001b[1;32m     60\u001b[0m     \u001b[38;5;28mself\u001b[39m\u001b[38;5;241m.\u001b[39mfuture\u001b[38;5;241m.\u001b[39mset_exception(exc)\n",
            "File \u001b[0;32m~/miniconda3/envs/Class_Practice/lib/python3.10/site-packages/mp_api/client/core/client.py:1038\u001b[0m, in \u001b[0;36mBaseRester._submit_request_and_process\u001b[0;34m(self, url, verify, params, use_document_model, timeout)\u001b[0m\n\u001b[1;32m   1035\u001b[0m     \u001b[38;5;28;01mexcept\u001b[39;00m (\u001b[38;5;167;01mKeyError\u001b[39;00m, \u001b[38;5;167;01mIndexError\u001b[39;00m):\n\u001b[1;32m   1036\u001b[0m         message \u001b[38;5;241m=\u001b[39m \u001b[38;5;28mstr\u001b[39m(data)\n\u001b[0;32m-> 1038\u001b[0m \u001b[38;5;28;01mraise\u001b[39;00m MPRestError(\n\u001b[1;32m   1039\u001b[0m     \u001b[38;5;124mf\u001b[39m\u001b[38;5;124m\"\u001b[39m\u001b[38;5;124mREST query returned with error status code \u001b[39m\u001b[38;5;132;01m{\u001b[39;00mresponse\u001b[38;5;241m.\u001b[39mstatus_code\u001b[38;5;132;01m}\u001b[39;00m\u001b[38;5;124m \u001b[39m\u001b[38;5;124m\"\u001b[39m\n\u001b[1;32m   1040\u001b[0m     \u001b[38;5;124mf\u001b[39m\u001b[38;5;124m\"\u001b[39m\u001b[38;5;124mon URL \u001b[39m\u001b[38;5;132;01m{\u001b[39;00mresponse\u001b[38;5;241m.\u001b[39murl\u001b[38;5;132;01m}\u001b[39;00m\u001b[38;5;124m with message:\u001b[39m\u001b[38;5;130;01m\\n\u001b[39;00m\u001b[38;5;132;01m{\u001b[39;00mmessage\u001b[38;5;132;01m}\u001b[39;00m\u001b[38;5;124m\"\u001b[39m\n\u001b[1;32m   1041\u001b[0m )\n",
            "\u001b[0;31mMPRestError\u001b[0m: REST query returned with error status code 401 on URL https://api.materialsproject.org/materials/summary/?nelements_min=3&nelements_max=3&spacegroup_symbol=R-3m&_fields=builder_meta%2Cnsites%2Celements%2Cnelements%2Ccomposition%2Ccomposition_reduced%2Cformula_pretty%2Cformula_anonymous%2Cchemsys%2Cvolume%2Cdensity%2Cdensity_atomic%2Csymmetry%2Cproperty_name%2Cmaterial_id%2Cdeprecated%2Cdeprecation_reasons%2Clast_updated%2Corigins%2Cwarnings%2Cstructure%2Ctask_ids%2Cuncorrected_energy_per_atom%2Cenergy_per_atom%2Cformation_energy_per_atom%2Cenergy_above_hull%2Cis_stable%2Cequilibrium_reaction_energy_per_atom%2Cdecomposes_to%2Cxas%2Cgrain_boundaries%2Cband_gap%2Ccbm%2Cvbm%2Cefermi%2Cis_gap_direct%2Cis_metal%2Ces_source_calc_id%2Cbandstructure%2Cdos%2Cdos_energy_up%2Cdos_energy_down%2Cis_magnetic%2Cordering%2Ctotal_magnetization%2Ctotal_magnetization_normalized_vol%2Ctotal_magnetization_normalized_formula_units%2Cnum_magnetic_sites%2Cnum_unique_magnetic_sites%2Ctypes_of_magnetic_species%2Cbulk_modulus%2Cshear_modulus%2Cuniversal_anisotropy%2Chomogeneous_poisson%2Ce_total%2Ce_ionic%2Ce_electronic%2Cn%2Ce_ij_max%2Cweighted_surface_energy_EV_PER_ANG2%2Cweighted_surface_energy%2Cweighted_work_function%2Csurface_anisotropy%2Cshape_factor%2Chas_reconstructed%2Cpossible_species%2Chas_props%2Ctheoretical%2Cdatabase_Ids&chemsys=Li-%2A-O&_limit=1000 with message:\nResponse {\n  \"message\":\"No API key found in request\"\n}"
          ]
        }
      ],
      "source": [
        "pd.set_option(\"display.max_rows\", None)   # None → 제한 없음\n",
        "pd.set_option(\"display.max_columns\", None)\n",
        "\n",
        "docs = mpr.materials.summary.search(chemsys=\"Li-*-O\", num_elements=3, spacegroup_symbol=\"R-3m\", fields=list_of_available_fields)\n",
        "results = [doc.dict() for doc in docs]\n",
        "df_full = pd.DataFrame(results)\n",
        "# df_full = pd.read_excel(\"/content/practice/Class/data/Hands_on_session1_data.xlsx\", sheet_name=\"example_4\")\n",
        "df = df_full.loc[:, [\"formula_pretty\", \"material_id\", \"energy_above_hull\",\"band_gap\", \"symmetry\"]]\n",
        "df.head()"
      ]
    },
    {
      "cell_type": "code",
      "execution_count": null,
      "metadata": {},
      "outputs": [],
      "source": [
        "df"
      ]
    },
    {
      "cell_type": "code",
      "execution_count": null,
      "metadata": {},
      "outputs": [],
      "source": [
        "df_zero = df[df[\"energy_above_hull\"] == 0]\n",
        "df_zero"
      ]
    }
  ],
  "metadata": {
    "colab": {
      "provenance": []
    },
    "kernelspec": {
      "display_name": "Class_Practice",
      "language": "python",
      "name": "python3"
    },
    "language_info": {
      "codemirror_mode": {
        "name": "ipython",
        "version": 3
      },
      "file_extension": ".py",
      "mimetype": "text/x-python",
      "name": "python",
      "nbconvert_exporter": "python",
      "pygments_lexer": "ipython3",
      "version": "3.10.18"
    }
  },
  "nbformat": 4,
  "nbformat_minor": 0
}
