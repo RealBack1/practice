{
  "cells": [
    {
      "cell_type": "markdown",
      "metadata": {
        "id": "0rEGMgy5QqoJ"
      },
      "source": [
        "#  **Hands-on-session1 (Querying data from materials databases)**"
      ]
    },
    {
      "cell_type": "markdown",
      "metadata": {
        "id": "TgXaUF41Jhyz"
      },
      "source": [
        "# **Necessary Libraries**"
      ]
    },
    {
      "cell_type": "code",
      "execution_count": null,
      "metadata": {
        "collapsed": true,
        "id": "PjktPjPSJP53"
      },
      "outputs": [],
      "source": [
        "!pip install matminer[citrine]\n",
        "!pip install pyyaml\n",
        "!pip install mp_api\n",
        "!pip install pandas==2.2.2\n",
        "!git clone https://github.com/RealBack1/practice.git"
      ]
    },
    {
      "cell_type": "markdown",
      "metadata": {
        "id": "HPIuGREkfJB5"
      },
      "source": [
        "# **Practice**"
      ]
    },
    {
      "cell_type": "markdown",
      "metadata": {
        "id": "QdaTwTSkPZXe"
      },
      "source": [
        "**Getting Data**\n",
        "\n",
        "*Revised from Joseph Montoya's notebook*\n",
        "\n",
        "This notebook demonstrates a few basic examples from matminer's data retrieval features. Matminer supports data retrieval from the following sources.\n",
        "\n",
        "*   Materials Project (https://materialsproject.org/)"
      ]
    },
    {
      "cell_type": "markdown",
      "metadata": {
        "id": "IUG5wIRx8paz"
      },
      "source": [
        "This notebook was last updated 11/15/18 for version 0.4.5 of matminer.\n",
        "\n",
        "Each resource has a corresponding object in matminer designed for retrieving data and preprocessing it into a pandas dataframe. In addition, matminer can also access and aggregate data from your own mongo database, if you have one.\n"
      ]
    },
    {
      "cell_type": "markdown",
      "metadata": {
        "id": "ZSby6KdU9PTU"
      },
      "source": [
        "**Data retrieval**\n",
        "\n",
        "The materials project data retrieval tool, matminer.data_retrieval.retrieve_MP.MPDataRetrieval is initialized using an api_key that can be found on your personal dashboard page on materialsproject.org if you've created an account. If you've set your api key via pymatgen (e.g. pmg config --add PMG_MAPI_KEY YOUR_API_KEY_HERE), the data retrieval tool may be initialized without an input argument."
      ]
    },
    {
      "cell_type": "markdown",
      "metadata": {
        "id": "HBvPCPrf9aTF"
      },
      "source": [
        "**We need our own MP API Key**"
      ]
    },
    {
      "cell_type": "code",
      "execution_count": null,
      "metadata": {
        "id": "ka1So7FPXFAR"
      },
      "outputs": [],
      "source": [
        "## Materials Project API client: https://docs.materialsproject.org/downloading-data/using-the-api/getting-started\n",
        "## Loading module of MP API client\n",
        "from mp_api.client import MPRester\n",
        "import pandas as pd"
      ]
    },
    {
      "cell_type": "code",
      "execution_count": null,
      "metadata": {
        "id": "Ucq_cE2dYrMK"
      },
      "outputs": [],
      "source": [
        "## Put your own API key\n",
        "my_api_key = \"\"\n",
        "mpr = MPRester(my_api_key)"
      ]
    },
    {
      "cell_type": "code",
      "execution_count": null,
      "metadata": {
        "id": "Pu9SVFjkxuCE"
      },
      "outputs": [],
      "source": [
        "list_of_available_fields = mpr.materials.summary.available_fields\n",
        "print(list_of_available_fields)"
      ]
    },
    {
      "cell_type": "markdown",
      "metadata": {
        "id": "s6NCimEXxuCE"
      },
      "source": [
        "**Practice 1: Get various properties of binary oxide materials with \"AO\" formula**"
      ]
    },
    {
      "cell_type": "code",
      "execution_count": null,
      "metadata": {
        "vscode": {
          "languageId": "plaintext"
        },
        "id": "WX4Z0iULxuCE"
      },
      "outputs": [],
      "source": [
        "docs = mpr.materials.summary.search(chemsys=\"*-O\", formula=\"AB\", fields=list_of_available_fields)\n",
        "results = [doc.dict() for doc in docs]\n",
        "df_full = pd.DataFrame(results)\n",
        "df = df_full.loc[:, [\"formula_pretty\", \"material_id\", \"formation_energy_per_atom\", \"energy_above_hull\", \"band_gap\"]]\n",
        "sdf = df.sort_values(by=\"formation_energy_per_atom\", axis=0)\n",
        "sdf.head(10)"
      ]
    },
    {
      "cell_type": "markdown",
      "metadata": {
        "vscode": {
          "languageId": "markdown"
        },
        "id": "vLj5fOB-xuCE"
      },
      "source": [
        "**Practice 2: Draw the phase diagram for Li-Ni-O**\n",
        "\n",
        "(This code was written with reference to the Jupyter notebook by Materials Virtual Lab(https://matgenb.materialsvirtuallab.org/))"
      ]
    },
    {
      "cell_type": "code",
      "execution_count": null,
      "metadata": {
        "collapsed": true,
        "id": "sIh0Hnk_csiB"
      },
      "outputs": [],
      "source": [
        "from pymatgen.analysis.phase_diagram import PhaseDiagram, PDPlotter\n",
        "entries = mpr.get_entries_in_chemsys(elements=[\"Li\", \"Ni\", \"O\"], additional_criteria={\"thermo_types\": [\"GGA_GGA+U\"]})\n",
        "pd = PhaseDiagram(entries)\n",
        "plotter = PDPlotter(pd, backend=\"matplotlib\")\n",
        "plotter.show()"
      ]
    },
    {
      "cell_type": "markdown",
      "metadata": {
        "id": "kO97hpYxdFnm"
      },
      "source": [
        "**Practice 3: Among the Li–X–O compounds, identify those with the R-3m crystal structure, and classify the stable ones (with energy_above_hull = 0)**"
      ]
    },
    {
      "cell_type": "code",
      "execution_count": null,
      "metadata": {
        "id": "e0HMT3MMxuCE"
      },
      "outputs": [],
      "source": [
        "pd.set_option(\"display.max_rows\", None)   # None → 제한 없음\n",
        "pd.set_option(\"display.max_columns\", None)\n",
        "\n",
        "docs = mpr.materials.summary.search(chemsys=\"Li-*-O\", num_elements=3, spacegroup_symbol=\"R-3m\", fields=list_of_available_fields)\n",
        "results = [doc.dict() for doc in docs]\n",
        "df_full = pd.DataFrame(results)\n",
        "df = df_full.loc[:, [\"formula_pretty\", \"material_id\", \"energy_above_hull\",\"band_gap\", \"symmetry\"]]\n",
        "df.head()"
      ]
    },
    {
      "cell_type": "code",
      "execution_count": null,
      "metadata": {
        "id": "WQIW3UekxuCE"
      },
      "outputs": [],
      "source": [
        "df"
      ]
    },
    {
      "cell_type": "code",
      "execution_count": null,
      "metadata": {
        "id": "zFB7kavuxuCE"
      },
      "outputs": [],
      "source": [
        "df_zero = df[df[\"energy_above_hull\"] == 0]\n",
        "df_zero"
      ]
    },
    {
      "cell_type": "markdown",
      "source": [
        "**Practice 3-2: Among the Li–X–O compounds, obtain the structures of the most stable compounds (with energy_above_hull = 0)**"
      ],
      "metadata": {
        "id": "0uA6KSY6yLzi"
      }
    },
    {
      "cell_type": "code",
      "source": [
        "docs = mpr.materials.summary.search(chemsys=\"Li-*-O\", num_elements=3, energy_above_hull=(0,1e-6), fields=list_of_available_fields)\n",
        "results = [doc.dict() for doc in docs]\n",
        "df_full = pd.DataFrame(results)\n",
        "df = df_full.loc[:, [\"formula_pretty\", \"material_id\", \"energy_above_hull\",\"band_gap\", \"symmetry\"]]\n",
        "df.head()"
      ],
      "metadata": {
        "id": "PRvGrJG_yMfN"
      },
      "execution_count": null,
      "outputs": []
    }
  ],
  "metadata": {
    "colab": {
      "provenance": []
    },
    "kernelspec": {
      "display_name": "Class_Practice",
      "language": "python",
      "name": "python3"
    },
    "language_info": {
      "codemirror_mode": {
        "name": "ipython",
        "version": 3
      },
      "file_extension": ".py",
      "mimetype": "text/x-python",
      "name": "python",
      "nbconvert_exporter": "python",
      "pygments_lexer": "ipython3",
      "version": "3.10.18"
    }
  },
  "nbformat": 4,
  "nbformat_minor": 0
}