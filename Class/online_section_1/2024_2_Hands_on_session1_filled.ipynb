{
  "cells": [
    {
      "cell_type": "markdown",
      "metadata": {
        "id": "0rEGMgy5QqoJ"
      },
      "source": [
        "#  Hands-on-session1 (Querying data from materials databases)**"
      ]
    },
    {
      "cell_type": "markdown",
      "metadata": {
        "id": "TgXaUF41Jhyz"
      },
      "source": [
        "# **Necessary Libraries**"
      ]
    },
    {
      "cell_type": "code",
      "execution_count": null,
      "metadata": {
        "collapsed": true,
        "id": "PjktPjPSJP53"
      },
      "outputs": [],
      "source": [
        "!pip install matminer[citrine]\n",
        "!pip install pyyaml\n",
        "!pip install mp_api\n",
        "!pip install pandas==2.2.2"
      ]
    },
    {
      "cell_type": "markdown",
      "metadata": {
        "id": "HLd9kdqza_DP"
      },
      "source": [
        "# **Reading data from the excel or csv file**"
      ]
    },
    {
      "cell_type": "code",
      "execution_count": null,
      "metadata": {
        "id": "FDTkVThrbHJL"
      },
      "outputs": [],
      "source": [
        "## Loading sample data file of \"california_housing_train.csv\" from folder \"sample_data\" as a dataframe using pandas\n",
        "## To see the manual, type \"?pd\" or \"?pd.read_csv\" after importing pandas\n",
        "## The detailed explanation can be found in \"https://inria.github.io/scikit-learn-mooc/python_scripts/datasets_california_housing.html\"\n",
        "import pandas as pd\n",
        "\n",
        "file_path = \"/content/sample_data/california_housing_train.csv\"\n",
        "df = pd.read_csv(file_path)"
      ]
    },
    {
      "cell_type": "code",
      "execution_count": null,
      "metadata": {
        "id": "i1LnH-CSPCHx"
      },
      "outputs": [],
      "source": [
        "## Checking the loading dataframe\n",
        "df.head()"
      ]
    },
    {
      "cell_type": "code",
      "execution_count": null,
      "metadata": {
        "id": "dz7Zf0H9R_Im"
      },
      "outputs": [],
      "source": [
        "# Summary statistics of the DataFrame\n",
        "# To see what you can do with this class, just put \".\" and wait to see the list of available functions and properties\n",
        "df.describe()"
      ]
    },
    {
      "cell_type": "code",
      "execution_count": null,
      "metadata": {
        "id": "ooEonS_ZKkn6"
      },
      "outputs": [],
      "source": [
        "## tuple representing the dimensionality of the DataFrame\n",
        "df.shape"
      ]
    },
    {
      "cell_type": "code",
      "execution_count": null,
      "metadata": {
        "id": "zAsGCWxuJv7n"
      },
      "outputs": [],
      "source": [
        "## Confirm axis labels to see features\n",
        "df.columns"
      ]
    },
    {
      "cell_type": "code",
      "execution_count": null,
      "metadata": {
        "id": "P27hWjRvQP8L"
      },
      "outputs": [],
      "source": [
        "## Sorting the houses' population over 1000\n",
        "df_pop = df[df['population'] > 1000]\n",
        "df_pop.describe()"
      ]
    },
    {
      "cell_type": "code",
      "execution_count": null,
      "metadata": {
        "id": "UTyTQQhGTp1Z"
      },
      "outputs": [],
      "source": [
        "## Sorting with the condition of population over 1000 & total bedrooms below 500\n",
        "df_pop_bed = df[(df['population'] > 1000) & (df['total_bedrooms'] < 500)]\n",
        "df_pop_bed.describe()"
      ]
    },
    {
      "cell_type": "code",
      "execution_count": null,
      "metadata": {
        "id": "knCvO1g5VnEK"
      },
      "outputs": [],
      "source": [
        "## Generate a new column for the data satifying specific conditions of population over 3000\n",
        "df['High_population'] = df['population'] >= 3000\n",
        "df.head(10)"
      ]
    },
    {
      "cell_type": "code",
      "execution_count": null,
      "metadata": {
        "id": "Ry4ZgcwkWxG6"
      },
      "outputs": [],
      "source": [
        "## Save to excel file\n",
        "df.to_csv(\"new_df.csv\")"
      ]
    },
    {
      "cell_type": "markdown",
      "metadata": {
        "id": "HPIuGREkfJB5"
      },
      "source": [
        "# **Materials Project**"
      ]
    },
    {
      "cell_type": "markdown",
      "metadata": {
        "id": "QdaTwTSkPZXe"
      },
      "source": [
        "**Getting Data**\n",
        "\n",
        "*Revised from Joseph Montoya's notebook*\n",
        "\n",
        "This notebook demonstrates a few basic examples from matminer's data retrieval features. Matminer supports data retrieval from the following sources.\n",
        "\n",
        "*   Materials Project (https://materialsproject.org/)"
      ]
    },
    {
      "cell_type": "markdown",
      "metadata": {
        "id": "IUG5wIRx8paz"
      },
      "source": [
        "This notebook was last updated 11/15/18 for version 0.4.5 of matminer.\n",
        "\n",
        "Each resource has a corresponding object in matminer designed for retrieving data and preprocessing it into a pandas dataframe. In addition, matminer can also access and aggregate data from your own mongo database, if you have one.\n"
      ]
    },
    {
      "cell_type": "markdown",
      "metadata": {
        "id": "ZSby6KdU9PTU"
      },
      "source": [
        "**Data retrieval**\n",
        "\n",
        "The materials project data retrieval tool, matminer.data_retrieval.retrieve_MP.MPDataRetrieval is initialized using an api_key that can be found on your personal dashboard page on materialsproject.org if you've created an account. If you've set your api key via pymatgen (e.g. pmg config --add PMG_MAPI_KEY YOUR_API_KEY_HERE), the data retrieval tool may be initialized without an input argument."
      ]
    },
    {
      "cell_type": "markdown",
      "metadata": {
        "id": "HBvPCPrf9aTF"
      },
      "source": [
        "**We need our own MP API Key**"
      ]
    },
    {
      "cell_type": "code",
      "execution_count": null,
      "metadata": {
        "id": "ka1So7FPXFAR"
      },
      "outputs": [],
      "source": [
        "## Materials Project API client: https://docs.materialsproject.org/downloading-data/using-the-api/getting-started\n",
        "## Loading module of MP API client\n",
        "from mp_api.client import MPRester\n",
        "import pandas as pd"
      ]
    },
    {
      "cell_type": "code",
      "execution_count": null,
      "metadata": {
        "id": "p9Pl2vtNXMqz"
      },
      "outputs": [],
      "source": [
        "?MPRester"
      ]
    },
    {
      "cell_type": "code",
      "execution_count": null,
      "metadata": {
        "id": "Ucq_cE2dYrMK"
      },
      "outputs": [],
      "source": [
        "## Put your own API key\n",
        "my_api_key = \"\"\n",
        "mpr = MPRester(my_api_key)"
      ]
    },
    {
      "cell_type": "code",
      "execution_count": null,
      "metadata": {
        "id": "V3ERRyicZbwe"
      },
      "outputs": [],
      "source": [
        "## See the summary of available fields for crystalline materials\n",
        "## How about molecular materials?\n",
        "list_of_available_fields = mpr.materials.summary.available_fields\n",
        "print(list_of_available_fields)"
      ]
    },
    {
      "cell_type": "code",
      "execution_count": null,
      "metadata": {
        "collapsed": true,
        "id": "sIh0Hnk_csiB"
      },
      "outputs": [],
      "source": [
        "## Querying Data from MP (https://docs.materialsproject.org/downloading-data/using-the-api/querying-data)\n",
        "## Load data for target properties\n",
        "docs = mpr.materials.summary.search(formula=\"LiCoO2\", fields=list_of_available_fields)\n",
        "docs"
      ]
    },
    {
      "cell_type": "code",
      "execution_count": null,
      "metadata": {
        "id": "kO97hpYxdFnm"
      },
      "outputs": [],
      "source": [
        "## Transforming the data list into dictionary type and then dataframe\n",
        "results = [doc.dict() for doc in docs]\n",
        "df_full = pd.DataFrame(results)\n",
        "df_full.head(10)"
      ]
    },
    {
      "cell_type": "code",
      "execution_count": null,
      "metadata": {
        "id": "ipaCyCb6e1iw"
      },
      "outputs": [],
      "source": [
        "## In case you cannot load the data from MP, loading the data from excel file\n",
        "df_full = pd.read_excel(\"/content/Hands_on_session1_data.xlsx\", sheet_name=\"example_0\")"
      ]
    },
    {
      "cell_type": "code",
      "execution_count": null,
      "metadata": {
        "id": "UYSHm8_aduaa"
      },
      "outputs": [],
      "source": [
        "## Selecting the properties you want to use\n",
        "df = df_full.loc[:, [\"formula_pretty\", \"material_id\", \"formation_energy_per_atom\", \"energy_above_hull\", \"band_gap\"]]\n",
        "df.head(10)"
      ]
    },
    {
      "cell_type": "code",
      "execution_count": null,
      "metadata": {
        "id": "2e-sG8PzbxgF"
      },
      "outputs": [],
      "source": [
        "## https://docs.materialsproject.org/downloading-data/using-the-api/tips-for-large-downloads\n",
        "## Before requesting data, use the has_props key to find which materials have data for your desired property.\n",
        "## One source of wasted queries occurs when data is requested for materials that are either nonexistent or do not contain the property of interest.\n",
        "## You should instead first determine what materials have the data you are looking for.\n",
        "## For example, below is a query to get all of the material ID values for entries that have dielectric and density of states data:\n",
        "\n",
        "docs = mpr.materials.summary.search(has_props=[\"dielectric\", \"dos\"], fields=[\"material_id\"])\n",
        "docs[0]"
      ]
    },
    {
      "cell_type": "code",
      "execution_count": null,
      "metadata": {
        "id": "tWU85SVo8v_p"
      },
      "outputs": [],
      "source": [
        "## Load data for target properties\n",
        "mat = mpr.materials.summary.search(material_ids=\"mp-28967\")\n",
        "mat"
      ]
    },
    {
      "cell_type": "code",
      "execution_count": null,
      "metadata": {
        "id": "eWyjyi9Sm6mj"
      },
      "outputs": [],
      "source": [
        "## Sort the values in ascending order for a specific property (ex. formation_energy_per_atom)\n",
        "sdf = df.sort_values(by=\"formation_energy_per_atom\")\n",
        "sdf.head(10)"
      ]
    },
    {
      "cell_type": "code",
      "execution_count": null,
      "metadata": {
        "id": "1x1fJe5znIvt"
      },
      "outputs": [],
      "source": [
        "## Load the same materials' data with different way\n",
        "docs = mpr.materials.summary.search(chemsys=\"Li-Co-O\", formula=\"ABC2\", fields=list_of_available_fields)\n",
        "results = [doc.dict() for doc in docs]\n",
        "df_full = pd.DataFrame(results)\n",
        "df = df_full.loc[:, [\"formula_pretty\", \"material_id\", \"formation_energy_per_atom\", \"energy_above_hull\", \"band_gap\"]]\n",
        "sdf = df.sort_values(by=\"formation_energy_per_atom\", axis=0)\n",
        "sdf.head(10)"
      ]
    },
    {
      "cell_type": "markdown",
      "metadata": {
        "id": "lLwoooKB_3ai"
      },
      "source": [
        "Getting a dataframe corresponding to the materials project is essentially equivalent to using the MPRester's query method.(see https://api.materialsproject.org/docs) The inputs are criteria and fields, a list of supported properties which to return. See the MAPI documentation (https://docs.materialsproject.org/downloading-data)"
      ]
    },
    {
      "cell_type": "markdown",
      "metadata": {
        "id": "EgE0SPoSAZi3"
      },
      "source": [
        "**Example 1: Get various properties of binary oxide materials with \"A2O3\" formula**\n"
      ]
    },
    {
      "cell_type": "code",
      "execution_count": null,
      "metadata": {
        "id": "41DAS3SuoJNx"
      },
      "outputs": [],
      "source": [
        "docs = mpr.materials.summary.search(chemsys=\"*-O\", formula=\"A2B3\", fields=list_of_available_fields)\n",
        "results = [doc.dict() for doc in docs]\n",
        "df_full = pd.DataFrame(results)\n",
        "# df_full = pd.read_excel(\"/content/Hands_on_session1_data.xlsx\", sheet_name=\"example_1\")\n",
        "df = df_full.loc[:, [\"formula_pretty\", \"material_id\", \"formation_energy_per_atom\", \"energy_above_hull\", \"band_gap\"]]\n",
        "sdf = df.sort_values(by=\"formation_energy_per_atom\", axis=0)\n",
        "sdf.head(10)"
      ]
    },
    {
      "cell_type": "markdown",
      "metadata": {
        "id": "_0MKZSzpCVEx"
      },
      "source": [
        "#### Example 2: Get materials only containing \"Fe\", and \"O\""
      ]
    },
    {
      "cell_type": "code",
      "execution_count": null,
      "metadata": {
        "id": "LRF4ZyH-oXux"
      },
      "outputs": [],
      "source": [
        "docs = mpr.materials.summary.search(chemsys=\"*-*\", elements=[\"Fe\", \"O\"], fields=list_of_available_fields)\n",
        "results = [doc.dict() for doc in docs]\n",
        "df_full = pd.DataFrame(results)\n",
        "# df_full = pd.read_excel(\"/content/Hands_on_session1_data.xlsx\", sheet_name=\"example_2\")\n",
        "df = df_full.loc[:, [\"formula_pretty\", \"material_id\", \"energy_above_hull\"]]\n",
        "df.head()"
      ]
    },
    {
      "cell_type": "markdown",
      "metadata": {
        "id": "wLdGrHQvFMl5"
      },
      "source": [
        "#### Example 3: Get all bandgaps larger than 6.0 eV"
      ]
    },
    {
      "cell_type": "code",
      "execution_count": null,
      "metadata": {
        "id": "pK01Op21olMh"
      },
      "outputs": [],
      "source": [
        "docs = mpr.materials.summary.search(band_gap=(6,None), fields=list_of_available_fields)\n",
        "results = [doc.dict() for doc in docs]\n",
        "df_full = pd.DataFrame(results)\n",
        "# df_full = pd.read_excel(\"/content/Hands_on_session1_data.xlsx\", sheet_name=\"example_3\")\n",
        "df = df_full.loc[:, [\"formula_pretty\", \"material_id\", \"band_gap\"]]\n",
        "df.head()"
      ]
    },
    {
      "cell_type": "markdown",
      "metadata": {
        "id": "57MxUFznFXwg"
      },
      "source": [
        "Get binary compounds' bandgaps larger than 6.0 eV"
      ]
    },
    {
      "cell_type": "code",
      "execution_count": null,
      "metadata": {
        "id": "3qeM_Pqco3ma"
      },
      "outputs": [],
      "source": [
        "docs = mpr.materials.summary.search(chemsys=\"*-*\", band_gap=(6, None), fields=list_of_available_fields)\n",
        "results = [doc.dict() for doc in docs]\n",
        "df_full = pd.DataFrame(results)\n",
        "# df_full = pd.read_excel(\"/content/Hands_on_session1_data.xlsx\", sheet_name=\"example_3_2\")\n",
        "df = df_full.loc[:, [\"formula_pretty\", \"material_id\", \"band_gap\"]]\n",
        "df.head()"
      ]
    },
    {
      "cell_type": "markdown",
      "metadata": {
        "id": "-qN6_nr0FpaM"
      },
      "source": [
        "Get tertiary lithium oxide compounds' bandgaps larger thatn 6.0eV"
      ]
    },
    {
      "cell_type": "code",
      "execution_count": null,
      "metadata": {
        "id": "P110W6hBpc1T"
      },
      "outputs": [],
      "source": [
        "docs = mpr.materials.summary.search(num_elements=3, elements=[\"Li\", \"O\"], band_gap=(6,None), fields=list_of_available_fields)\n",
        "results = [doc.dict() for doc in docs]\n",
        "df_full = pd.DataFrame(results)\n",
        "# df_full = pd.read_excel(\"/content/Hands_on_session1_data.xlsx\", sheet_name=\"example_3_3\")\n",
        "df = df_full.loc[:, [\"formula_pretty\", \"material_id\", \"band_gap\"]]\n",
        "df.head()"
      ]
    },
    {
      "cell_type": "markdown",
      "metadata": {
        "id": "Aqp5A0xNcFT4"
      },
      "source": [
        "#### Example 4: Get all bulk modulus from the tertiary lithium oxide which has the \"elasticity\" property"
      ]
    },
    {
      "cell_type": "code",
      "execution_count": null,
      "metadata": {
        "id": "Sr2ZDnFCpsdP"
      },
      "outputs": [],
      "source": [
        "docs = mpr.materials.summary.search(chemsys=\"Li-*-O\", has_props=[\"elasticity\"], fields=list_of_available_fields)\n",
        "results = [doc.dict() for doc in docs]\n",
        "df_full = pd.DataFrame(results)\n",
        "# df_full = pd.read_excel(\"/content/Hands_on_session1_data.xlsx\", sheet_name=\"example_4\")\n",
        "df = df_full.loc[:, [\"formula_pretty\", \"material_id\", \"bulk_modulus\"]]\n",
        "df.head()"
      ]
    },
    {
      "cell_type": "code",
      "execution_count": null,
      "metadata": {
        "id": "wuxnz9wTqvrn"
      },
      "outputs": [],
      "source": [
        "## Looking at the dataframe whether there is missing data\n",
        "df"
      ]
    },
    {
      "cell_type": "code",
      "execution_count": null,
      "metadata": {
        "id": "oMxSAeesdUS9"
      },
      "outputs": [],
      "source": [
        "df.describe()"
      ]
    },
    {
      "cell_type": "code",
      "execution_count": null,
      "metadata": {
        "id": "hzWzmZJ-rSF7"
      },
      "outputs": [],
      "source": [
        "## Drop the rows where at least one element is missing.\n",
        "df_clean = df.dropna()\n",
        "df_clean.describe()"
      ]
    },
    {
      "cell_type": "code",
      "execution_count": null,
      "metadata": {
        "id": "vUn58LYorlRb"
      },
      "outputs": [],
      "source": [
        "## Dividing data of dictionary types in new columns\n",
        "## Voigt value: Upper bound of bulk modulus, Reuss value: Lower bound of bulk modulus, VRH: Average of two values\n",
        "df_expanded = pd.json_normalize(df_clean['bulk_modulus'])\n",
        "df_expanded.head()"
      ]
    },
    {
      "cell_type": "code",
      "execution_count": null,
      "metadata": {
        "id": "Mxe_DSAqsQNX"
      },
      "outputs": [],
      "source": [
        "df_drop = df_clean.drop(columns=['bulk_modulus'])\n",
        "df_drop.head(10)"
      ]
    },
    {
      "cell_type": "code",
      "execution_count": null,
      "metadata": {
        "id": "1IDXiEcHseLV"
      },
      "outputs": [],
      "source": [
        "df_join = df_drop.join(df_expanded)\n",
        "sdf = df_join.sort_values(by=\"vrh\", axis=0)\n",
        "sdf.head(10)"
      ]
    },
    {
      "cell_type": "code",
      "execution_count": null,
      "metadata": {
        "id": "qDMYlfZLsmRB"
      },
      "outputs": [],
      "source": [
        "## Simple code for same procedure\n",
        "df_expanded = pd.json_normalize(df_clean['bulk_modulus'])\n",
        "sdf = df_clean.drop(columns=['bulk_modulus']).join(df_expanded).sort_values(by=\"vrh\", axis=0)\n",
        "sdf.head(10)"
      ]
    },
    {
      "cell_type": "markdown",
      "metadata": {
        "id": "qb5bcYhod4DT"
      },
      "source": [
        "Now let us do a more sophisticated query and ask for more properties such as \"bandstructure\" and \"phase diagram\".\n",
        "\n",
        "Let's look at the band structure of some of these stable compounds that contain Pb and Te which are interesting for thermoelectrics applications:"
      ]
    },
    {
      "cell_type": "code",
      "execution_count": null,
      "metadata": {
        "id": "EKh-3OuQtdJZ"
      },
      "outputs": [],
      "source": [
        "## Querying the band structures of the stable Pb-Te binary compounds\n",
        "docs = mpr.materials.summary.search(elements=[\"Pb\", \"Te\"], energy_above_hull = (0,1e-6), fields=list_of_available_fields)\n",
        "results = [doc.dict() for doc in docs]\n",
        "df_full = pd.DataFrame(results)\n",
        "# df_full = pd.read_excel(\"/content/Hands_on_session1_data.xlsx\", sheet_name=\"example_advanced\")\n",
        "df = df_full.loc[:, [\"formula_pretty\", \"material_id\", \"energy_above_hull\", \"bandstructure\", \"dos\"]]\n",
        "df.head()"
      ]
    },
    {
      "cell_type": "code",
      "execution_count": null,
      "metadata": {
        "id": "0pUmidD4vR81"
      },
      "outputs": [],
      "source": [
        "## Loading modules for plotting band structures\n",
        "from pymatgen.electronic_structure.bandstructure import BandStructureSymmLine\n",
        "from pymatgen.electronic_structure.plotter import BSPlotter\n",
        "import matplotlib.pyplot as plt"
      ]
    },
    {
      "cell_type": "code",
      "execution_count": null,
      "metadata": {
        "id": "C6AyzS7-vVQJ"
      },
      "outputs": [],
      "source": [
        "## Querying the band structures of specific material with its MP ID (mp-20740)\n",
        "band_structure = mpr.get_bandstructure_by_material_id(\"mp-20740\")"
      ]
    },
    {
      "cell_type": "code",
      "execution_count": null,
      "metadata": {
        "id": "XKTdTqObwVNF"
      },
      "outputs": [],
      "source": [
        "## Using BSPlotter function, plotting its band structure\n",
        "plotter = BSPlotter(band_structure)\n",
        "plot = plotter.get_plot()"
      ]
    },
    {
      "cell_type": "code",
      "execution_count": null,
      "metadata": {
        "id": "g3_lBhcbvuWm"
      },
      "outputs": [],
      "source": [
        "## More general procedure\n",
        "## Check the band structure is the instance of BandStructureSymmLine class.\n",
        "## If it is true, the code for plotting the band structure is proceeded.\n",
        "band_structure = mpr.get_bandstructure_by_material_id(\"mp-560090\")\n",
        "if isinstance(band_structure, BandStructureSymmLine):\n",
        "    plotter = BSPlotter(band_structure)\n",
        "    plot = plotter.get_plot()\n",
        "##    plt.show()\n",
        "else:\n",
        "    print(\"The band structure is not of type BandStructureSymmLine.\")"
      ]
    },
    {
      "cell_type": "markdown",
      "metadata": {
        "id": "xfmu0tl_evDa"
      },
      "source": [
        "Let's look at the phase diagram for Ni-Co-Mn\n",
        "\n",
        "(This code was written with reference to the Jupyter notebook by Materials Virtual Lab(https://matgenb.materialsvirtuallab.org/))"
      ]
    },
    {
      "cell_type": "code",
      "execution_count": null,
      "metadata": {
        "id": "ZkdeYXYsx--B"
      },
      "outputs": [],
      "source": [
        "## Loading functions for generating and plotting phase diagram from phase_diagram module of Pymatgen's analysis\n",
        "from pymatgen.analysis.phase_diagram import PhaseDiagram, PDPlotter"
      ]
    },
    {
      "cell_type": "code",
      "execution_count": null,
      "metadata": {
        "id": "T1XF7gRVyUiV"
      },
      "outputs": [],
      "source": [
        "# Querying all compounds in Ni-Ci-Mn compositional spaces using \"get_entries_in_chemsys\" function\n",
        "entries = mpr.get_entries_in_chemsys(elements=[\"Ni\", \"Co\", \"Mn\"], additional_criteria={\"thermo_types\": [\"GGA_GGA+U\"]})"
      ]
    },
    {
      "cell_type": "code",
      "execution_count": null,
      "metadata": {
        "id": "cu1rkcQGy4TI"
      },
      "outputs": [],
      "source": [
        "# Construct phase diagram\n",
        "pd = PhaseDiagram(entries)"
      ]
    },
    {
      "cell_type": "code",
      "execution_count": null,
      "metadata": {
        "id": "S4P3CPnwzCKH"
      },
      "outputs": [],
      "source": [
        "# Plot phase diagram\n",
        "plotter = PDPlotter(pd, backend=\"matplotlib\")\n",
        "plotter.show()"
      ]
    }
  ],
  "metadata": {
    "colab": {
      "provenance": []
    },
    "kernelspec": {
      "display_name": "Python 3",
      "name": "python3"
    },
    "language_info": {
      "name": "python"
    }
  },
  "nbformat": 4,
  "nbformat_minor": 0
}
